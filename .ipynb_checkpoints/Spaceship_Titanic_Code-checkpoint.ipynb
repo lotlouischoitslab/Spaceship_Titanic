{
 "cells": [
  {
   "cell_type": "markdown",
   "id": "fb6584ee",
   "metadata": {},
   "source": [
    "# 1. Data Description"
   ]
  },
  {
   "cell_type": "code",
   "execution_count": 1,
   "id": "b959e465",
   "metadata": {},
   "outputs": [],
   "source": [
    "import numpy as np\n",
    "import pandas as pd\n",
    "import seaborn as sns\n",
    "import matplotlib.pyplot as plt\n",
    "%matplotlib inline\n",
    "import warnings \n",
    "warnings.filterwarnings('ignore')\n",
    "from sklearn.feature_selection import SelectKBest, chi2"
   ]
  },
  {
   "cell_type": "code",
   "execution_count": 2,
   "id": "3d23d7de",
   "metadata": {},
   "outputs": [],
   "source": [
    "training = pd.read_csv('datasets/train.csv')\n",
    "testing = pd.read_csv('datasets/test.csv')\n",
    "combined = pd.concat([training,testing],axis=0,ignore_index=True)"
   ]
  },
  {
   "cell_type": "code",
   "execution_count": 3,
   "id": "3eec73f7",
   "metadata": {},
   "outputs": [
    {
     "data": {
      "text/html": [
       "<div>\n",
       "<style scoped>\n",
       "    .dataframe tbody tr th:only-of-type {\n",
       "        vertical-align: middle;\n",
       "    }\n",
       "\n",
       "    .dataframe tbody tr th {\n",
       "        vertical-align: top;\n",
       "    }\n",
       "\n",
       "    .dataframe thead th {\n",
       "        text-align: right;\n",
       "    }\n",
       "</style>\n",
       "<table border=\"1\" class=\"dataframe\">\n",
       "  <thead>\n",
       "    <tr style=\"text-align: right;\">\n",
       "      <th></th>\n",
       "      <th>PassengerId</th>\n",
       "      <th>HomePlanet</th>\n",
       "      <th>CryoSleep</th>\n",
       "      <th>Cabin</th>\n",
       "      <th>Destination</th>\n",
       "      <th>Age</th>\n",
       "      <th>VIP</th>\n",
       "      <th>RoomService</th>\n",
       "      <th>FoodCourt</th>\n",
       "      <th>ShoppingMall</th>\n",
       "      <th>Spa</th>\n",
       "      <th>VRDeck</th>\n",
       "      <th>Name</th>\n",
       "      <th>Transported</th>\n",
       "    </tr>\n",
       "  </thead>\n",
       "  <tbody>\n",
       "    <tr>\n",
       "      <th>0</th>\n",
       "      <td>0001_01</td>\n",
       "      <td>Europa</td>\n",
       "      <td>False</td>\n",
       "      <td>B/0/P</td>\n",
       "      <td>TRAPPIST-1e</td>\n",
       "      <td>39.0</td>\n",
       "      <td>False</td>\n",
       "      <td>0.0</td>\n",
       "      <td>0.0</td>\n",
       "      <td>0.0</td>\n",
       "      <td>0.0</td>\n",
       "      <td>0.0</td>\n",
       "      <td>Maham Ofracculy</td>\n",
       "      <td>False</td>\n",
       "    </tr>\n",
       "    <tr>\n",
       "      <th>1</th>\n",
       "      <td>0002_01</td>\n",
       "      <td>Earth</td>\n",
       "      <td>False</td>\n",
       "      <td>F/0/S</td>\n",
       "      <td>TRAPPIST-1e</td>\n",
       "      <td>24.0</td>\n",
       "      <td>False</td>\n",
       "      <td>109.0</td>\n",
       "      <td>9.0</td>\n",
       "      <td>25.0</td>\n",
       "      <td>549.0</td>\n",
       "      <td>44.0</td>\n",
       "      <td>Juanna Vines</td>\n",
       "      <td>True</td>\n",
       "    </tr>\n",
       "    <tr>\n",
       "      <th>2</th>\n",
       "      <td>0003_01</td>\n",
       "      <td>Europa</td>\n",
       "      <td>False</td>\n",
       "      <td>A/0/S</td>\n",
       "      <td>TRAPPIST-1e</td>\n",
       "      <td>58.0</td>\n",
       "      <td>True</td>\n",
       "      <td>43.0</td>\n",
       "      <td>3576.0</td>\n",
       "      <td>0.0</td>\n",
       "      <td>6715.0</td>\n",
       "      <td>49.0</td>\n",
       "      <td>Altark Susent</td>\n",
       "      <td>False</td>\n",
       "    </tr>\n",
       "    <tr>\n",
       "      <th>3</th>\n",
       "      <td>0003_02</td>\n",
       "      <td>Europa</td>\n",
       "      <td>False</td>\n",
       "      <td>A/0/S</td>\n",
       "      <td>TRAPPIST-1e</td>\n",
       "      <td>33.0</td>\n",
       "      <td>False</td>\n",
       "      <td>0.0</td>\n",
       "      <td>1283.0</td>\n",
       "      <td>371.0</td>\n",
       "      <td>3329.0</td>\n",
       "      <td>193.0</td>\n",
       "      <td>Solam Susent</td>\n",
       "      <td>False</td>\n",
       "    </tr>\n",
       "    <tr>\n",
       "      <th>4</th>\n",
       "      <td>0004_01</td>\n",
       "      <td>Earth</td>\n",
       "      <td>False</td>\n",
       "      <td>F/1/S</td>\n",
       "      <td>TRAPPIST-1e</td>\n",
       "      <td>16.0</td>\n",
       "      <td>False</td>\n",
       "      <td>303.0</td>\n",
       "      <td>70.0</td>\n",
       "      <td>151.0</td>\n",
       "      <td>565.0</td>\n",
       "      <td>2.0</td>\n",
       "      <td>Willy Santantines</td>\n",
       "      <td>True</td>\n",
       "    </tr>\n",
       "  </tbody>\n",
       "</table>\n",
       "</div>"
      ],
      "text/plain": [
       "  PassengerId HomePlanet CryoSleep  Cabin  Destination   Age    VIP  \\\n",
       "0     0001_01     Europa     False  B/0/P  TRAPPIST-1e  39.0  False   \n",
       "1     0002_01      Earth     False  F/0/S  TRAPPIST-1e  24.0  False   \n",
       "2     0003_01     Europa     False  A/0/S  TRAPPIST-1e  58.0   True   \n",
       "3     0003_02     Europa     False  A/0/S  TRAPPIST-1e  33.0  False   \n",
       "4     0004_01      Earth     False  F/1/S  TRAPPIST-1e  16.0  False   \n",
       "\n",
       "   RoomService  FoodCourt  ShoppingMall     Spa  VRDeck               Name  \\\n",
       "0          0.0        0.0           0.0     0.0     0.0    Maham Ofracculy   \n",
       "1        109.0        9.0          25.0   549.0    44.0       Juanna Vines   \n",
       "2         43.0     3576.0           0.0  6715.0    49.0      Altark Susent   \n",
       "3          0.0     1283.0         371.0  3329.0   193.0       Solam Susent   \n",
       "4        303.0       70.0         151.0   565.0     2.0  Willy Santantines   \n",
       "\n",
       "   Transported  \n",
       "0        False  \n",
       "1         True  \n",
       "2        False  \n",
       "3        False  \n",
       "4         True  "
      ]
     },
     "execution_count": 3,
     "metadata": {},
     "output_type": "execute_result"
    }
   ],
   "source": [
    "training.head()"
   ]
  },
  {
   "cell_type": "code",
   "execution_count": 4,
   "id": "f2cae939",
   "metadata": {},
   "outputs": [
    {
     "data": {
      "text/html": [
       "<div>\n",
       "<style scoped>\n",
       "    .dataframe tbody tr th:only-of-type {\n",
       "        vertical-align: middle;\n",
       "    }\n",
       "\n",
       "    .dataframe tbody tr th {\n",
       "        vertical-align: top;\n",
       "    }\n",
       "\n",
       "    .dataframe thead th {\n",
       "        text-align: right;\n",
       "    }\n",
       "</style>\n",
       "<table border=\"1\" class=\"dataframe\">\n",
       "  <thead>\n",
       "    <tr style=\"text-align: right;\">\n",
       "      <th></th>\n",
       "      <th>PassengerId</th>\n",
       "      <th>HomePlanet</th>\n",
       "      <th>CryoSleep</th>\n",
       "      <th>Cabin</th>\n",
       "      <th>Destination</th>\n",
       "      <th>Age</th>\n",
       "      <th>VIP</th>\n",
       "      <th>RoomService</th>\n",
       "      <th>FoodCourt</th>\n",
       "      <th>ShoppingMall</th>\n",
       "      <th>Spa</th>\n",
       "      <th>VRDeck</th>\n",
       "      <th>Name</th>\n",
       "    </tr>\n",
       "  </thead>\n",
       "  <tbody>\n",
       "    <tr>\n",
       "      <th>0</th>\n",
       "      <td>0013_01</td>\n",
       "      <td>Earth</td>\n",
       "      <td>True</td>\n",
       "      <td>G/3/S</td>\n",
       "      <td>TRAPPIST-1e</td>\n",
       "      <td>27.0</td>\n",
       "      <td>False</td>\n",
       "      <td>0.0</td>\n",
       "      <td>0.0</td>\n",
       "      <td>0.0</td>\n",
       "      <td>0.0</td>\n",
       "      <td>0.0</td>\n",
       "      <td>Nelly Carsoning</td>\n",
       "    </tr>\n",
       "    <tr>\n",
       "      <th>1</th>\n",
       "      <td>0018_01</td>\n",
       "      <td>Earth</td>\n",
       "      <td>False</td>\n",
       "      <td>F/4/S</td>\n",
       "      <td>TRAPPIST-1e</td>\n",
       "      <td>19.0</td>\n",
       "      <td>False</td>\n",
       "      <td>0.0</td>\n",
       "      <td>9.0</td>\n",
       "      <td>0.0</td>\n",
       "      <td>2823.0</td>\n",
       "      <td>0.0</td>\n",
       "      <td>Lerome Peckers</td>\n",
       "    </tr>\n",
       "    <tr>\n",
       "      <th>2</th>\n",
       "      <td>0019_01</td>\n",
       "      <td>Europa</td>\n",
       "      <td>True</td>\n",
       "      <td>C/0/S</td>\n",
       "      <td>55 Cancri e</td>\n",
       "      <td>31.0</td>\n",
       "      <td>False</td>\n",
       "      <td>0.0</td>\n",
       "      <td>0.0</td>\n",
       "      <td>0.0</td>\n",
       "      <td>0.0</td>\n",
       "      <td>0.0</td>\n",
       "      <td>Sabih Unhearfus</td>\n",
       "    </tr>\n",
       "    <tr>\n",
       "      <th>3</th>\n",
       "      <td>0021_01</td>\n",
       "      <td>Europa</td>\n",
       "      <td>False</td>\n",
       "      <td>C/1/S</td>\n",
       "      <td>TRAPPIST-1e</td>\n",
       "      <td>38.0</td>\n",
       "      <td>False</td>\n",
       "      <td>0.0</td>\n",
       "      <td>6652.0</td>\n",
       "      <td>0.0</td>\n",
       "      <td>181.0</td>\n",
       "      <td>585.0</td>\n",
       "      <td>Meratz Caltilter</td>\n",
       "    </tr>\n",
       "    <tr>\n",
       "      <th>4</th>\n",
       "      <td>0023_01</td>\n",
       "      <td>Earth</td>\n",
       "      <td>False</td>\n",
       "      <td>F/5/S</td>\n",
       "      <td>TRAPPIST-1e</td>\n",
       "      <td>20.0</td>\n",
       "      <td>False</td>\n",
       "      <td>10.0</td>\n",
       "      <td>0.0</td>\n",
       "      <td>635.0</td>\n",
       "      <td>0.0</td>\n",
       "      <td>0.0</td>\n",
       "      <td>Brence Harperez</td>\n",
       "    </tr>\n",
       "  </tbody>\n",
       "</table>\n",
       "</div>"
      ],
      "text/plain": [
       "  PassengerId HomePlanet CryoSleep  Cabin  Destination   Age    VIP  \\\n",
       "0     0013_01      Earth      True  G/3/S  TRAPPIST-1e  27.0  False   \n",
       "1     0018_01      Earth     False  F/4/S  TRAPPIST-1e  19.0  False   \n",
       "2     0019_01     Europa      True  C/0/S  55 Cancri e  31.0  False   \n",
       "3     0021_01     Europa     False  C/1/S  TRAPPIST-1e  38.0  False   \n",
       "4     0023_01      Earth     False  F/5/S  TRAPPIST-1e  20.0  False   \n",
       "\n",
       "   RoomService  FoodCourt  ShoppingMall     Spa  VRDeck              Name  \n",
       "0          0.0        0.0           0.0     0.0     0.0   Nelly Carsoning  \n",
       "1          0.0        9.0           0.0  2823.0     0.0    Lerome Peckers  \n",
       "2          0.0        0.0           0.0     0.0     0.0   Sabih Unhearfus  \n",
       "3          0.0     6652.0           0.0   181.0   585.0  Meratz Caltilter  \n",
       "4         10.0        0.0         635.0     0.0     0.0   Brence Harperez  "
      ]
     },
     "execution_count": 4,
     "metadata": {},
     "output_type": "execute_result"
    }
   ],
   "source": [
    "testing.head()"
   ]
  },
  {
   "cell_type": "markdown",
   "id": "d2fa24f3",
   "metadata": {},
   "source": [
    "# Data Visualization"
   ]
  },
  {
   "cell_type": "code",
   "execution_count": 5,
   "id": "077a7d5e",
   "metadata": {},
   "outputs": [
    {
     "name": "stdout",
     "output_type": "stream",
     "text": [
      "PassengerId       0\n",
      "HomePlanet      201\n",
      "CryoSleep       217\n",
      "Cabin           199\n",
      "Destination     182\n",
      "Age             179\n",
      "VIP             203\n",
      "RoomService     181\n",
      "FoodCourt       183\n",
      "ShoppingMall    208\n",
      "Spa             183\n",
      "VRDeck          188\n",
      "Name            200\n",
      "Transported       0\n",
      "dtype: int64\n"
     ]
    }
   ],
   "source": [
    "null_counts = training.isnull().sum() #count the number of null values\n",
    "print(null_counts)"
   ]
  },
  {
   "cell_type": "code",
   "execution_count": 6,
   "id": "a9011b33",
   "metadata": {},
   "outputs": [
    {
     "data": {
      "text/plain": [
       "PassengerId      object\n",
       "HomePlanet       object\n",
       "CryoSleep        object\n",
       "Cabin            object\n",
       "Destination      object\n",
       "Age             float64\n",
       "VIP              object\n",
       "RoomService     float64\n",
       "FoodCourt       float64\n",
       "ShoppingMall    float64\n",
       "Spa             float64\n",
       "VRDeck          float64\n",
       "Name             object\n",
       "Transported        bool\n",
       "dtype: object"
      ]
     },
     "execution_count": 6,
     "metadata": {},
     "output_type": "execute_result"
    }
   ],
   "source": [
    "training.dtypes"
   ]
  },
  {
   "cell_type": "markdown",
   "id": "10484257",
   "metadata": {},
   "source": [
    "# Combined Data Analysis"
   ]
  },
  {
   "cell_type": "code",
   "execution_count": 7,
   "id": "24228d10",
   "metadata": {},
   "outputs": [
    {
     "data": {
      "text/html": [
       "<div>\n",
       "<style scoped>\n",
       "    .dataframe tbody tr th:only-of-type {\n",
       "        vertical-align: middle;\n",
       "    }\n",
       "\n",
       "    .dataframe tbody tr th {\n",
       "        vertical-align: top;\n",
       "    }\n",
       "\n",
       "    .dataframe thead th {\n",
       "        text-align: right;\n",
       "    }\n",
       "</style>\n",
       "<table border=\"1\" class=\"dataframe\">\n",
       "  <thead>\n",
       "    <tr style=\"text-align: right;\">\n",
       "      <th></th>\n",
       "      <th>PassengerId</th>\n",
       "      <th>HomePlanet</th>\n",
       "      <th>CryoSleep</th>\n",
       "      <th>Cabin</th>\n",
       "      <th>Destination</th>\n",
       "      <th>Age</th>\n",
       "      <th>VIP</th>\n",
       "      <th>RoomService</th>\n",
       "      <th>FoodCourt</th>\n",
       "      <th>ShoppingMall</th>\n",
       "      <th>Spa</th>\n",
       "      <th>VRDeck</th>\n",
       "      <th>Name</th>\n",
       "      <th>Transported</th>\n",
       "    </tr>\n",
       "  </thead>\n",
       "  <tbody>\n",
       "    <tr>\n",
       "      <th>0</th>\n",
       "      <td>0001_01</td>\n",
       "      <td>Europa</td>\n",
       "      <td>False</td>\n",
       "      <td>B/0/P</td>\n",
       "      <td>TRAPPIST-1e</td>\n",
       "      <td>39.0</td>\n",
       "      <td>False</td>\n",
       "      <td>0.0</td>\n",
       "      <td>0.0</td>\n",
       "      <td>0.0</td>\n",
       "      <td>0.0</td>\n",
       "      <td>0.0</td>\n",
       "      <td>Maham Ofracculy</td>\n",
       "      <td>False</td>\n",
       "    </tr>\n",
       "    <tr>\n",
       "      <th>1</th>\n",
       "      <td>0002_01</td>\n",
       "      <td>Earth</td>\n",
       "      <td>False</td>\n",
       "      <td>F/0/S</td>\n",
       "      <td>TRAPPIST-1e</td>\n",
       "      <td>24.0</td>\n",
       "      <td>False</td>\n",
       "      <td>109.0</td>\n",
       "      <td>9.0</td>\n",
       "      <td>25.0</td>\n",
       "      <td>549.0</td>\n",
       "      <td>44.0</td>\n",
       "      <td>Juanna Vines</td>\n",
       "      <td>True</td>\n",
       "    </tr>\n",
       "    <tr>\n",
       "      <th>2</th>\n",
       "      <td>0003_01</td>\n",
       "      <td>Europa</td>\n",
       "      <td>False</td>\n",
       "      <td>A/0/S</td>\n",
       "      <td>TRAPPIST-1e</td>\n",
       "      <td>58.0</td>\n",
       "      <td>True</td>\n",
       "      <td>43.0</td>\n",
       "      <td>3576.0</td>\n",
       "      <td>0.0</td>\n",
       "      <td>6715.0</td>\n",
       "      <td>49.0</td>\n",
       "      <td>Altark Susent</td>\n",
       "      <td>False</td>\n",
       "    </tr>\n",
       "    <tr>\n",
       "      <th>3</th>\n",
       "      <td>0003_02</td>\n",
       "      <td>Europa</td>\n",
       "      <td>False</td>\n",
       "      <td>A/0/S</td>\n",
       "      <td>TRAPPIST-1e</td>\n",
       "      <td>33.0</td>\n",
       "      <td>False</td>\n",
       "      <td>0.0</td>\n",
       "      <td>1283.0</td>\n",
       "      <td>371.0</td>\n",
       "      <td>3329.0</td>\n",
       "      <td>193.0</td>\n",
       "      <td>Solam Susent</td>\n",
       "      <td>False</td>\n",
       "    </tr>\n",
       "    <tr>\n",
       "      <th>4</th>\n",
       "      <td>0004_01</td>\n",
       "      <td>Earth</td>\n",
       "      <td>False</td>\n",
       "      <td>F/1/S</td>\n",
       "      <td>TRAPPIST-1e</td>\n",
       "      <td>16.0</td>\n",
       "      <td>False</td>\n",
       "      <td>303.0</td>\n",
       "      <td>70.0</td>\n",
       "      <td>151.0</td>\n",
       "      <td>565.0</td>\n",
       "      <td>2.0</td>\n",
       "      <td>Willy Santantines</td>\n",
       "      <td>True</td>\n",
       "    </tr>\n",
       "  </tbody>\n",
       "</table>\n",
       "</div>"
      ],
      "text/plain": [
       "  PassengerId HomePlanet CryoSleep  Cabin  Destination   Age    VIP  \\\n",
       "0     0001_01     Europa     False  B/0/P  TRAPPIST-1e  39.0  False   \n",
       "1     0002_01      Earth     False  F/0/S  TRAPPIST-1e  24.0  False   \n",
       "2     0003_01     Europa     False  A/0/S  TRAPPIST-1e  58.0   True   \n",
       "3     0003_02     Europa     False  A/0/S  TRAPPIST-1e  33.0  False   \n",
       "4     0004_01      Earth     False  F/1/S  TRAPPIST-1e  16.0  False   \n",
       "\n",
       "   RoomService  FoodCourt  ShoppingMall     Spa  VRDeck               Name  \\\n",
       "0          0.0        0.0           0.0     0.0     0.0    Maham Ofracculy   \n",
       "1        109.0        9.0          25.0   549.0    44.0       Juanna Vines   \n",
       "2         43.0     3576.0           0.0  6715.0    49.0      Altark Susent   \n",
       "3          0.0     1283.0         371.0  3329.0   193.0       Solam Susent   \n",
       "4        303.0       70.0         151.0   565.0     2.0  Willy Santantines   \n",
       "\n",
       "  Transported  \n",
       "0       False  \n",
       "1        True  \n",
       "2       False  \n",
       "3       False  \n",
       "4        True  "
      ]
     },
     "execution_count": 7,
     "metadata": {},
     "output_type": "execute_result"
    }
   ],
   "source": [
    "df = pd.concat([training,testing])\n",
    "df.head()"
   ]
  },
  {
   "cell_type": "code",
   "execution_count": 8,
   "id": "c4e1218d",
   "metadata": {},
   "outputs": [
    {
     "name": "stdout",
     "output_type": "stream",
     "text": [
      "<class 'pandas.core.frame.DataFrame'>\n",
      "Int64Index: 12970 entries, 0 to 4276\n",
      "Data columns (total 14 columns):\n",
      " #   Column        Non-Null Count  Dtype  \n",
      "---  ------        --------------  -----  \n",
      " 0   PassengerId   12970 non-null  object \n",
      " 1   HomePlanet    12682 non-null  object \n",
      " 2   CryoSleep     12660 non-null  object \n",
      " 3   Cabin         12671 non-null  object \n",
      " 4   Destination   12696 non-null  object \n",
      " 5   Age           12700 non-null  float64\n",
      " 6   VIP           12674 non-null  object \n",
      " 7   RoomService   12707 non-null  float64\n",
      " 8   FoodCourt     12681 non-null  float64\n",
      " 9   ShoppingMall  12664 non-null  float64\n",
      " 10  Spa           12686 non-null  float64\n",
      " 11  VRDeck        12702 non-null  float64\n",
      " 12  Name          12676 non-null  object \n",
      " 13  Transported   8693 non-null   object \n",
      "dtypes: float64(6), object(8)\n",
      "memory usage: 1.5+ MB\n"
     ]
    }
   ],
   "source": [
    "df.info()"
   ]
  },
  {
   "cell_type": "code",
   "execution_count": 9,
   "id": "dd293e5f",
   "metadata": {},
   "outputs": [
    {
     "data": {
      "text/html": [
       "<div>\n",
       "<style scoped>\n",
       "    .dataframe tbody tr th:only-of-type {\n",
       "        vertical-align: middle;\n",
       "    }\n",
       "\n",
       "    .dataframe tbody tr th {\n",
       "        vertical-align: top;\n",
       "    }\n",
       "\n",
       "    .dataframe thead th {\n",
       "        text-align: right;\n",
       "    }\n",
       "</style>\n",
       "<table border=\"1\" class=\"dataframe\">\n",
       "  <thead>\n",
       "    <tr style=\"text-align: right;\">\n",
       "      <th></th>\n",
       "      <th>Age</th>\n",
       "      <th>RoomService</th>\n",
       "      <th>FoodCourt</th>\n",
       "      <th>ShoppingMall</th>\n",
       "      <th>Spa</th>\n",
       "      <th>VRDeck</th>\n",
       "    </tr>\n",
       "  </thead>\n",
       "  <tbody>\n",
       "    <tr>\n",
       "      <th>count</th>\n",
       "      <td>12700.000000</td>\n",
       "      <td>12707.000000</td>\n",
       "      <td>12681.000000</td>\n",
       "      <td>12664.000000</td>\n",
       "      <td>12686.000000</td>\n",
       "      <td>12702.000000</td>\n",
       "    </tr>\n",
       "    <tr>\n",
       "      <th>mean</th>\n",
       "      <td>28.771969</td>\n",
       "      <td>222.897852</td>\n",
       "      <td>451.961675</td>\n",
       "      <td>174.906033</td>\n",
       "      <td>308.476904</td>\n",
       "      <td>306.789482</td>\n",
       "    </tr>\n",
       "    <tr>\n",
       "      <th>std</th>\n",
       "      <td>14.387261</td>\n",
       "      <td>647.596664</td>\n",
       "      <td>1584.370747</td>\n",
       "      <td>590.558690</td>\n",
       "      <td>1130.279641</td>\n",
       "      <td>1180.097223</td>\n",
       "    </tr>\n",
       "    <tr>\n",
       "      <th>min</th>\n",
       "      <td>0.000000</td>\n",
       "      <td>0.000000</td>\n",
       "      <td>0.000000</td>\n",
       "      <td>0.000000</td>\n",
       "      <td>0.000000</td>\n",
       "      <td>0.000000</td>\n",
       "    </tr>\n",
       "    <tr>\n",
       "      <th>25%</th>\n",
       "      <td>19.000000</td>\n",
       "      <td>0.000000</td>\n",
       "      <td>0.000000</td>\n",
       "      <td>0.000000</td>\n",
       "      <td>0.000000</td>\n",
       "      <td>0.000000</td>\n",
       "    </tr>\n",
       "    <tr>\n",
       "      <th>50%</th>\n",
       "      <td>27.000000</td>\n",
       "      <td>0.000000</td>\n",
       "      <td>0.000000</td>\n",
       "      <td>0.000000</td>\n",
       "      <td>0.000000</td>\n",
       "      <td>0.000000</td>\n",
       "    </tr>\n",
       "    <tr>\n",
       "      <th>75%</th>\n",
       "      <td>38.000000</td>\n",
       "      <td>49.000000</td>\n",
       "      <td>77.000000</td>\n",
       "      <td>29.000000</td>\n",
       "      <td>57.000000</td>\n",
       "      <td>42.000000</td>\n",
       "    </tr>\n",
       "    <tr>\n",
       "      <th>max</th>\n",
       "      <td>79.000000</td>\n",
       "      <td>14327.000000</td>\n",
       "      <td>29813.000000</td>\n",
       "      <td>23492.000000</td>\n",
       "      <td>22408.000000</td>\n",
       "      <td>24133.000000</td>\n",
       "    </tr>\n",
       "  </tbody>\n",
       "</table>\n",
       "</div>"
      ],
      "text/plain": [
       "                Age   RoomService     FoodCourt  ShoppingMall           Spa  \\\n",
       "count  12700.000000  12707.000000  12681.000000  12664.000000  12686.000000   \n",
       "mean      28.771969    222.897852    451.961675    174.906033    308.476904   \n",
       "std       14.387261    647.596664   1584.370747    590.558690   1130.279641   \n",
       "min        0.000000      0.000000      0.000000      0.000000      0.000000   \n",
       "25%       19.000000      0.000000      0.000000      0.000000      0.000000   \n",
       "50%       27.000000      0.000000      0.000000      0.000000      0.000000   \n",
       "75%       38.000000     49.000000     77.000000     29.000000     57.000000   \n",
       "max       79.000000  14327.000000  29813.000000  23492.000000  22408.000000   \n",
       "\n",
       "             VRDeck  \n",
       "count  12702.000000  \n",
       "mean     306.789482  \n",
       "std     1180.097223  \n",
       "min        0.000000  \n",
       "25%        0.000000  \n",
       "50%        0.000000  \n",
       "75%       42.000000  \n",
       "max    24133.000000  "
      ]
     },
     "execution_count": 9,
     "metadata": {},
     "output_type": "execute_result"
    }
   ],
   "source": [
    "df.describe()"
   ]
  },
  {
   "cell_type": "code",
   "execution_count": 10,
   "id": "8e217e4e",
   "metadata": {},
   "outputs": [
    {
     "data": {
      "text/plain": [
       "PassengerId        0\n",
       "HomePlanet       288\n",
       "CryoSleep        310\n",
       "Cabin            299\n",
       "Destination      274\n",
       "Age              270\n",
       "VIP              296\n",
       "RoomService      263\n",
       "FoodCourt        289\n",
       "ShoppingMall     306\n",
       "Spa              284\n",
       "VRDeck           268\n",
       "Name             294\n",
       "Transported     4277\n",
       "dtype: int64"
      ]
     },
     "execution_count": 10,
     "metadata": {},
     "output_type": "execute_result"
    }
   ],
   "source": [
    "df.isnull().sum()"
   ]
  },
  {
   "cell_type": "code",
   "execution_count": 11,
   "id": "499924fc",
   "metadata": {},
   "outputs": [
    {
     "data": {
      "image/png": "[encoded data removed]",
      "text/plain": [
       "<Figure size 640x480 with 1 Axes>"
      ]
     },
     "metadata": {},
     "output_type": "display_data"
    }
   ],
   "source": [
    "#Age Distribution\n",
    "df['Age'].hist(bins=10)\n",
    "plt.title(\"Histogram of Ages\")\n",
    "plt.xlabel('Ages (Years)')\n",
    "plt.ylabel('Frequency')\n",
    "plt.savefig('figures/age_distribution.png')"
   ]
  },
  {
   "cell_type": "code",
   "execution_count": 12,
   "id": "8e8506ed",
   "metadata": {},
   "outputs": [
    {
     "data": {
      "text/plain": [
       "<seaborn.axisgrid.FacetGrid at 0x1b576e1d3d0>"
      ]
     },
     "execution_count": 12,
     "metadata": {},
     "output_type": "execute_result"
    },
    {
     "data": {
      "image/png": "[encoded data removed]",
      "text/plain": [
       "<Figure size 500x500 with 1 Axes>"
      ]
     },
     "metadata": {},
     "output_type": "display_data"
    }
   ],
   "source": [
    "sns.displot(df['HomePlanet'])"
   ]
  },
  {
   "cell_type": "code",
   "execution_count": 13,
   "id": "37d2f4b8",
   "metadata": {},
   "outputs": [
    {
     "data": {
      "image/png": "[encoded data removed]",
      "text/plain": [
       "<Figure size 640x480 with 1 Axes>"
      ]
     },
     "metadata": {},
     "output_type": "display_data"
    }
   ],
   "source": [
    "home_count = df['HomePlanet'].value_counts()\n",
    "home_percent = home_count / len(training)\n",
    "sizes = home_percent.values*100\n",
    "\n",
    "labels = [\"Earth\", \"Europa\", \"Mars\"]\n",
    "\n",
    "fig1, ax1 = plt.subplots()\n",
    "ax1.pie(sizes, labels=labels, autopct='%1.1f%%',\n",
    "        shadow=True, startangle=90)\n",
    "ax1.axis('equal')  # Equal aspect ratio ensures that pie is drawn as a circle.\n",
    "plt.title('Planet')\n",
    "plt.savefig('figures/planet_pie_chart.png')\n",
    "plt.show() "
   ]
  },
  {
   "cell_type": "code",
   "execution_count": 14,
   "id": "3ab7823e",
   "metadata": {},
   "outputs": [
    {
     "data": {
      "text/plain": [
       "<seaborn.axisgrid.FacetGrid at 0x1b579fd5c70>"
      ]
     },
     "execution_count": 14,
     "metadata": {},
     "output_type": "execute_result"
    },
    {
     "data": {
      "image/png": "[encoded data removed]",
      "text/plain": [
       "<Figure size 500x500 with 1 Axes>"
      ]
     },
     "metadata": {},
     "output_type": "display_data"
    }
   ],
   "source": [
    "sns.displot(df['Destination'])"
   ]
  },
  {
   "cell_type": "code",
   "execution_count": 15,
   "id": "bb1f4113",
   "metadata": {},
   "outputs": [
    {
     "data": {
      "text/plain": [
       "TRAPPIST-1e      8871\n",
       "55 Cancri e      2641\n",
       "PSO J318.5-22    1184\n",
       "Name: Destination, dtype: int64"
      ]
     },
     "execution_count": 15,
     "metadata": {},
     "output_type": "execute_result"
    }
   ],
   "source": [
    "destination_count = df['Destination'].value_counts()\n",
    "destination_count"
   ]
  },
  {
   "cell_type": "code",
   "execution_count": 16,
   "id": "b36c5532",
   "metadata": {},
   "outputs": [],
   "source": [
    "labels = [\"TRAPPIST-1e\", \"55 Cancri e\", \"PSO J318.5-22\"]"
   ]
  },
  {
   "cell_type": "code",
   "execution_count": 17,
   "id": "e03de6f6",
   "metadata": {},
   "outputs": [
    {
     "data": {
      "image/png": "[encoded data removed]",
      "text/plain": [
       "<Figure size 640x480 with 1 Axes>"
      ]
     },
     "metadata": {},
     "output_type": "display_data"
    }
   ],
   "source": [
    "destination_percent = destination_count / len(df)\n",
    "sizes = destination_percent.values*100\n",
    "\n",
    "fig1, ax1 = plt.subplots()\n",
    "ax1.pie(sizes, labels=labels, autopct='%1.1f%%',\n",
    "        shadow=True, startangle=90)\n",
    "ax1.axis('equal')  # Equal aspect ratio ensures that pie is drawn as a circle.\n",
    "plt.title('Destinations')\n",
    "plt.savefig('figures/destination_pie_chart.png')\n",
    "plt.show() "
   ]
  },
  {
   "cell_type": "code",
   "execution_count": 18,
   "id": "c84af91b",
   "metadata": {},
   "outputs": [
    {
     "data": {
      "text/plain": [
       "Index(['PassengerId', 'HomePlanet', 'CryoSleep', 'Cabin', 'Destination', 'Age',\n",
       "       'VIP', 'RoomService', 'FoodCourt', 'ShoppingMall', 'Spa', 'VRDeck',\n",
       "       'Name', 'Transported'],\n",
       "      dtype='object')"
      ]
     },
     "execution_count": 18,
     "metadata": {},
     "output_type": "execute_result"
    }
   ],
   "source": [
    "all_features = df.keys()\n",
    "all_features"
   ]
  },
  {
   "cell_type": "code",
   "execution_count": 19,
   "id": "5fd943a8",
   "metadata": {},
   "outputs": [
    {
     "data": {
      "text/plain": [
       "Index(['HomePlanet', 'CryoSleep', 'Cabin', 'Destination', 'Age', 'VIP',\n",
       "       'RoomService', 'FoodCourt', 'ShoppingMall', 'Spa', 'VRDeck'],\n",
       "      dtype='object')"
      ]
     },
     "execution_count": 19,
     "metadata": {},
     "output_type": "execute_result"
    }
   ],
   "source": [
    "selected_features = all_features[1:-2:]\n",
    "selected_features"
   ]
  },
  {
   "cell_type": "code",
   "execution_count": 20,
   "id": "a82a8fa8",
   "metadata": {},
   "outputs": [
    {
     "data": {
      "text/plain": [
       "<AxesSubplot:>"
      ]
     },
     "execution_count": 20,
     "metadata": {},
     "output_type": "execute_result"
    },
    {
     "data": {
      "image/png": "[encoded data removed]",
      "text/plain": [
       "<Figure size 640x480 with 2 Axes>"
      ]
     },
     "metadata": {},
     "output_type": "display_data"
    }
   ],
   "source": [
    "matrix = df[selected_features].corr()\n",
    "sns.heatmap(matrix)"
   ]
  },
  {
   "cell_type": "code",
   "execution_count": 21,
   "id": "ad0cc034",
   "metadata": {},
   "outputs": [
    {
     "data": {
      "image/png": "[encoded data removed]",
      "text/plain": [
       "<Figure size 1200x500 with 1 Axes>"
      ]
     },
     "metadata": {},
     "output_type": "display_data"
    }
   ],
   "source": [
    "feature_importance = training.corr().Transported.abs().sort_values(ascending=False).drop('Transported',axis=0)\n",
    "plt.figure(figsize=(12,5),dpi=100)\n",
    "sns.barplot(x=feature_importance.index,y=feature_importance.values)\n",
    "plt.xlabel('Features')\n",
    "plt.ylabel('Correlation')\n",
    "plt.title('Feature Importance')\n",
    "plt.savefig('figures/correlation_importance.png')"
   ]
  },
  {
   "cell_type": "markdown",
   "id": "089b4743",
   "metadata": {},
   "source": [
    "# Machine Learning Part"
   ]
  },
  {
   "cell_type": "code",
   "execution_count": 22,
   "id": "eb0b13cc",
   "metadata": {},
   "outputs": [],
   "source": [
    "# Grouping the passengers\n",
    "training['PassengerGroup'] = training.PassengerId.str.split('_',expand=True)[0].astype('int')\n",
    "testing['PassengerGroup'] = testing.PassengerId.str.split('_',expand=True)[0].astype('int')"
   ]
  },
  {
   "cell_type": "code",
   "execution_count": 23,
   "id": "185bc708",
   "metadata": {},
   "outputs": [],
   "source": [
    "# HomePlanet\n",
    "training['HomePlanet'] = training['HomePlanet'].fillna(value='NA')\n",
    "testing['HomePlanet'] = testing['HomePlanet'].fillna(value='NA')\n",
    "\n",
    "# VIP\n",
    "training['VIP'] = training['VIP'].fillna(value=False)\n",
    "testing['VIP'] = testing['VIP'].fillna(value=False)\n",
    "\n",
    "# CryoSleep\n",
    "training['CryoSleep'] = training['CryoSleep'].fillna(value=False)\n",
    "testing['CryoSleep'] = testing['CryoSleep'].fillna(value=False)\n",
    "\n",
    "# Age\n",
    "training['Age'] = training['Age'].fillna(training.groupby('PassengerGroup')['Age'].transform('median'))\n",
    "training['Age'] = training['Age'].fillna(training.groupby('HomePlanet')['Age'].transform('median'))\n",
    "\n",
    "testing['Age'] = testing['Age'].fillna(testing.groupby('PassengerGroup')['Age'].transform('median'))\n",
    "testing['Age'] = testing['Age'].fillna(testing.groupby('HomePlanet')['Age'].transform('median'))\n",
    "\n",
    "training['Adult'] = 1\n",
    "training.loc[training['Age']<18, 'Adult'] = 0\n",
    "\n",
    "testing['Adult'] = 1\n",
    "testing.loc[testing['Age']<18, 'Adult'] = 0\n",
    "\n",
    "# Cabin\n",
    "training['CabinDeck'] = training['Cabin'].str.split('/',expand=True)[0]\n",
    "testing['CabinDeck'] = testing['Cabin'].str.split('/',expand=True)[0]\n",
    "training['CabinDeck'] = training['CabinDeck'].fillna(value='NA')\n",
    "testing['CabinDeck'] = testing['CabinDeck'].fillna(value='NA')\n",
    "\n",
    "training['CabinSide'] = training['Cabin'].str.split('/',expand=True)[2]\n",
    "testing['CabinSide'] = testing['Cabin'].str.split('/',expand=True)[2]\n",
    "training['CabinSide'] = training['CabinSide'].fillna(value='NA')\n",
    "testing['CabinSide'] = testing['CabinSide'].fillna(value='NA')\n",
    "\n",
    "# Destination\n",
    "destination_dic = {'TRAPPIST-1e':'A','55 Cancri e':'B','PSO J318.5-22':'C'}\n",
    "training['Destination'] = training['Destination'].map(destination_dic)\n",
    "training['Destination'] = training['Destination'].fillna(value='NA')\n",
    "testing['Destination'] = testing['Destination'].map(destination_dic)\n",
    "testing['Destination'] = testing['Destination'].fillna(value='NA')\n",
    "\n"
   ]
  },
  {
   "cell_type": "code",
   "execution_count": 24,
   "id": "a2ae9aee",
   "metadata": {},
   "outputs": [],
   "source": [
    "# RoomService, FoodCourt, ShoppingMall, Spa, VRDeck and fill them with 0s\n",
    "training[['RoomService','FoodCourt','ShoppingMall','Spa','VRDeck']] = training[['RoomService','FoodCourt','ShoppingMall','Spa','VRDeck']].fillna(value=0)\n",
    "testing[['RoomService','FoodCourt','ShoppingMall','Spa','VRDeck']] = testing[['RoomService','FoodCourt','ShoppingMall','Spa','VRDeck']].fillna(value=0)"
   ]
  },
  {
   "cell_type": "code",
   "execution_count": 25,
   "id": "898dbb39",
   "metadata": {},
   "outputs": [],
   "source": [
    "# Total Spend\n",
    "training['TotalSpend'] = training['RoomService']+training['FoodCourt']+training['ShoppingMall']+training['Spa']+training['VRDeck']\n",
    "testing['TotalSpend'] = testing['RoomService']+testing['FoodCourt']+testing['ShoppingMall']+testing['Spa']+testing['VRDeck']"
   ]
  },
  {
   "cell_type": "code",
   "execution_count": 26,
   "id": "15e44d9e",
   "metadata": {},
   "outputs": [],
   "source": [
    "# Family Name\n",
    "training['FamilyName'] = training['Name'].str.split(' ',expand=True)[1]\n",
    "training['FamilyName'] = training['FamilyName'].fillna('NA')\n",
    "\n",
    "testing['FamilyName'] = testing['Name'].str.split(' ',expand=True)[1]\n",
    "testing['FamilyName'] = testing['FamilyName'].fillna('NA')\n",
    "\n",
    "combined['FamilyName'] = combined['Name'].str.split(' ',expand=True)[1]\n",
    "combined['FamilyName'] = combined['FamilyName'].fillna('NA')\n",
    "\n",
    "family_name_dictionary = combined['FamilyName'].value_counts().to_dict()\n",
    "family_name_dictionary['NA'] = 0\n",
    "\n",
    "training['FamilyMember'] = training['FamilyName']\n",
    "training['FamilyMember'] = training['FamilyMember'].map(family_name_dictionary)\n",
    "\n",
    "testing['FamilyMember'] = testing['FamilyName']\n",
    "testing['FamilyMember'] = testing['FamilyMember'].map(family_name_dictionary)"
   ]
  },
  {
   "cell_type": "code",
   "execution_count": 27,
   "id": "86bb499d",
   "metadata": {},
   "outputs": [],
   "source": [
    "drop = ['PassengerId','PassengerGroup','Cabin','Name','FamilyName']\n",
    "passenger_id = testing['PassengerId']\n",
    "training = training.drop(drop,axis=1)\n",
    "testing = testing.drop(drop,axis=1)"
   ]
  },
  {
   "cell_type": "code",
   "execution_count": 28,
   "id": "84ba95b2",
   "metadata": {},
   "outputs": [],
   "source": [
    "convert_features = ['CryoSleep','VIP','Transported']\n",
    "training[convert_features] = training[convert_features].astype(int)\n",
    "testing[convert_features[:-1]] = testing[convert_features[:-1]].astype(int)"
   ]
  },
  {
   "cell_type": "markdown",
   "id": "2589301f",
   "metadata": {},
   "source": [
    "# Feature Scaling of the Data"
   ]
  },
  {
   "cell_type": "code",
   "execution_count": 29,
   "id": "a2549364",
   "metadata": {},
   "outputs": [],
   "source": [
    "from sklearn.preprocessing import MinMaxScaler\n",
    "from sklearn.preprocessing import Normalizer\n",
    "from sklearn.preprocessing import RobustScaler\n",
    "from sklearn.preprocessing import StandardScaler\n",
    "from sklearn.model_selection import train_test_split"
   ]
  },
  {
   "cell_type": "code",
   "execution_count": 30,
   "id": "5690f193",
   "metadata": {},
   "outputs": [],
   "source": [
    "main_features = ['Age','RoomService','FoodCourt','ShoppingMall','Spa','VRDeck','TotalSpend','FamilyMember']\n",
    "\n",
    "scaler = StandardScaler()\n",
    "training_scaled = scaler.fit_transform(training[main_features])\n",
    "testing_scaled = scaler.transform(testing[main_features])\n",
    "\n",
    "training_scaled = pd.DataFrame(data=training_scaled,columns=main_features)\n",
    "testing_scaled = pd.DataFrame(data=testing_scaled,columns=main_features)\n",
    "\n",
    "encoded_features = ['HomePlanet','CryoSleep','Destination','VIP','CabinDeck','CabinSide','Adult']\n",
    "\n",
    "train_cat_encoded = pd.get_dummies(training[encoded_features],drop_first=True)\n",
    "test_cat_encoded = pd.get_dummies(testing[encoded_features],drop_first=True)"
   ]
  },
  {
   "cell_type": "code",
   "execution_count": 31,
   "id": "3b98e983",
   "metadata": {},
   "outputs": [],
   "source": [
    "X = pd.concat([training_scaled,train_cat_encoded],axis=1)\n",
    "X_test_samples = pd.concat([testing_scaled,test_cat_encoded],axis=1)\n",
    "y = training['Transported']"
   ]
  },
  {
   "cell_type": "markdown",
   "id": "5f2fa7f7",
   "metadata": {},
   "source": [
    "# Machine Learning Libraries"
   ]
  },
  {
   "cell_type": "code",
   "execution_count": 32,
   "id": "87a2a348",
   "metadata": {},
   "outputs": [],
   "source": [
    "#Logisitic Regression Classifier\n",
    "from sklearn.linear_model import LogisticRegression\n",
    "from sklearn.metrics import accuracy_score,precision_score,f1_score,recall_score,confusion_matrix\n",
    "\n",
    "#Random Forest Classifier\n",
    "from sklearn.ensemble import RandomForestClassifier\n",
    "\n",
    "#Support Vector Machine Classifier\n",
    "from sklearn.svm import SVC\n",
    "\n",
    "#KNN Classifier\n",
    "from sklearn.neighbors import KNeighborsClassifier\n",
    "\n",
    "#Naive Bayes Classifier\n",
    "from sklearn.naive_bayes import MultinomialNB\n",
    "\n",
    "#Decision Tree Classifier\n",
    "from sklearn.tree import DecisionTreeClassifier\n",
    "\n",
    "#Gradient Boosted Classifier\n",
    "from sklearn.ensemble import GradientBoostingClassifier"
   ]
  },
  {
   "cell_type": "markdown",
   "id": "c7c9d73a",
   "metadata": {},
   "source": [
    "# Logistic Regression Classifier"
   ]
  },
  {
   "cell_type": "code",
   "execution_count": 33,
   "id": "763631aa",
   "metadata": {},
   "outputs": [],
   "source": [
    "X_train, X_test, y_train, y_test = train_test_split(X, y, test_size=0.2, random_state=42)"
   ]
  },
  {
   "cell_type": "code",
   "execution_count": 34,
   "id": "91c77d4a",
   "metadata": {},
   "outputs": [],
   "source": [
    "def model_prediction(model,name,X_train, X_test, y_train, y_test):\n",
    "    model.fit(X_train,y_train)\n",
    "    X_train_pred = model.predict(X_train)\n",
    "    X_test_pred = model.predict(X_test)\n",
    "    \n",
    "    accuracy_train_score = round(accuracy_score(y_train,X_train_pred)*100,3)\n",
    "    accuracy_test_score = round(accuracy_score(y_test,X_test_pred)*100,3)\n",
    "    precision_score_ = round(precision_score(y_test,X_test_pred)*100,3)\n",
    "    recall_score_ = round(recall_score(y_test,X_test_pred)*100,3)\n",
    "    f1_score_ = round(f1_score(y_test,X_test_pred)*100,3)\n",
    "    \n",
    "    print(f\"Accuracy_Score of {model} model on Training Data is:\",accuracy_train_score,'%')\n",
    "    print(f\"Accuracy_Score of {model} model on Testing Data is:\",accuracy_test_score,'%')\n",
    "    \n",
    "    print(f\"Precision Score of {model} model is:\",precision_score_,'%')\n",
    "    print(f\"Recall Score of {model} model is:\",recall_score_,'%')\n",
    "    print(f\"F1 Score of {model} model is:\",f1_score_,'%')\n",
    "\n",
    "    print(f\"Confusion Matrix of {model} model is:\")\n",
    "    cm = confusion_matrix(y_test,X_test_pred)\n",
    "    cm = cm/ cm.astype(np.float).sum(axis=1)\n",
    "    plt.figure(figsize=(7,3))\n",
    "    sns.heatmap(cm,annot=True, fmt=\".2f\")\n",
    "    plt.show()\n",
    "    \n",
    "    return accuracy_train_score,accuracy_test_score,precision_score_,recall_score_,f1_score_"
   ]
  },
  {
   "cell_type": "code",
   "execution_count": 35,
   "id": "d4012316",
   "metadata": {},
   "outputs": [
    {
     "name": "stdout",
     "output_type": "stream",
     "text": [
      "Accuracy_Score of LogisticRegression(C=100, penalty='l1', random_state=52, solver='liblinear') model on Training Data is: 79.724 %\n",
      "Accuracy_Score of LogisticRegression(C=100, penalty='l1', random_state=52, solver='liblinear') model on Testing Data is: 78.378 %\n",
      "Precision Score of LogisticRegression(C=100, penalty='l1', random_state=52, solver='liblinear') model is: 76.421 %\n",
      "Recall Score of LogisticRegression(C=100, penalty='l1', random_state=52, solver='liblinear') model is: 82.688 %\n",
      "F1 Score of LogisticRegression(C=100, penalty='l1', random_state=52, solver='liblinear') model is: 79.431 %\n",
      "Confusion Matrix of LogisticRegression(C=100, penalty='l1', random_state=52, solver='liblinear') model is:\n"
     ]
    },
    {
     "data": {
      "image/png": "[encoded data removed]",
      "text/plain": [
       "<Figure size 700x300 with 2 Axes>"
      ]
     },
     "metadata": {},
     "output_type": "display_data"
    }
   ],
   "source": [
    "logistic_name = 'Logistic Regression Classifier'\n",
    "log_model = LogisticRegression(C=100, penalty='l1', solver='liblinear', random_state=52)\n",
    "logistic_accuracy_train_score,logistic_accuracy_test_score,logistic_precision_score,logistic_recall_score,logistic_f1_score=model_prediction(log_model,logistic_name,X_train, X_test, y_train, y_test)"
   ]
  },
  {
   "cell_type": "markdown",
   "id": "cbfdc5e0",
   "metadata": {},
   "source": [
    "# Random Forest Classifier"
   ]
  },
  {
   "cell_type": "code",
   "execution_count": 36,
   "id": "4541eca4",
   "metadata": {},
   "outputs": [
    {
     "name": "stdout",
     "output_type": "stream",
     "text": [
      "Accuracy_Score of RandomForestClassifier(max_depth=10, random_state=42) model on Training Data is: 85.879 %\n",
      "Accuracy_Score of RandomForestClassifier(max_depth=10, random_state=42) model on Testing Data is: 79.241 %\n",
      "Precision Score of RandomForestClassifier(max_depth=10, random_state=42) model is: 77.766 %\n",
      "Recall Score of RandomForestClassifier(max_depth=10, random_state=42) model is: 82.46 %\n",
      "F1 Score of RandomForestClassifier(max_depth=10, random_state=42) model is: 80.044 %\n",
      "Confusion Matrix of RandomForestClassifier(max_depth=10, random_state=42) model is:\n"
     ]
    },
    {
     "data": {
      "image/png": "[encoded data removed]",
      "text/plain": [
       "<Figure size 700x300 with 2 Axes>"
      ]
     },
     "metadata": {},
     "output_type": "display_data"
    }
   ],
   "source": [
    "rfs_name = 'Random Forest Classifier'\n",
    "rfs_model = RandomForestClassifier(max_depth=10, random_state=42)\n",
    "rfs_accuracy_train_score,rfs_accuracy_test_score,rfs_precision_score,rfs_recall_score,rfs_f1_score=model_prediction(rfs_model,rfs_name,X_train, X_test, y_train, y_test)"
   ]
  },
  {
   "cell_type": "markdown",
   "id": "e65fb8ac",
   "metadata": {},
   "source": [
    "# Support Vector Machine Classifier"
   ]
  },
  {
   "cell_type": "code",
   "execution_count": 37,
   "id": "c5ef4eb3",
   "metadata": {},
   "outputs": [
    {
     "name": "stdout",
     "output_type": "stream",
     "text": [
      "Accuracy_Score of SVC(gamma='auto') model on Training Data is: 81.004 %\n",
      "Accuracy_Score of SVC(gamma='auto') model on Testing Data is: 78.896 %\n",
      "Precision Score of SVC(gamma='auto') model is: 77.037 %\n",
      "Recall Score of SVC(gamma='auto') model is: 82.916 %\n",
      "F1 Score of SVC(gamma='auto') model is: 79.868 %\n",
      "Confusion Matrix of SVC(gamma='auto') model is:\n"
     ]
    },
    {
     "data": {
      "image/png": "[encoded data removed]",
      "text/plain": [
       "<Figure size 700x300 with 2 Axes>"
      ]
     },
     "metadata": {},
     "output_type": "display_data"
    }
   ],
   "source": [
    "svm_name = 'Support Vector Machine Classifier'\n",
    "svm_model = SVC(gamma='auto')\n",
    "svm_accuracy_train_score,svm_accuracy_test_score,svm_precision_score,svm_recall_score,svm_f1_score=model_prediction(svm_model,svm_name,X_train, X_test, y_train, y_test)"
   ]
  },
  {
   "cell_type": "markdown",
   "id": "a500cc83",
   "metadata": {},
   "source": [
    "# KNN Classifier"
   ]
  },
  {
   "cell_type": "code",
   "execution_count": 38,
   "id": "34bc5a7b",
   "metadata": {},
   "outputs": [
    {
     "name": "stdout",
     "output_type": "stream",
     "text": [
      "Accuracy_Score of KNeighborsClassifier(n_neighbors=7) model on Training Data is: 83.261 %\n",
      "Accuracy_Score of KNeighborsClassifier(n_neighbors=7) model on Testing Data is: 77.286 %\n",
      "Precision Score of KNeighborsClassifier(n_neighbors=7) model is: 77.727 %\n",
      "Recall Score of KNeighborsClassifier(n_neighbors=7) model is: 77.107 %\n",
      "F1 Score of KNeighborsClassifier(n_neighbors=7) model is: 77.416 %\n",
      "Confusion Matrix of KNeighborsClassifier(n_neighbors=7) model is:\n"
     ]
    },
    {
     "data": {
      "image/png": "[encoded data removed]",
      "text/plain": [
       "<Figure size 700x300 with 2 Axes>"
      ]
     },
     "metadata": {},
     "output_type": "display_data"
    }
   ],
   "source": [
    "K = 7\n",
    "knn_name = 'KNN Classifier'\n",
    "knn_model = KNeighborsClassifier(n_neighbors=K)\n",
    "knn_accuracy_train_score,knn_accuracy_test_score,knn_precision_score,knn_recall_score,knn_f1_score=model_prediction(knn_model,knn_name,X_train, X_test, y_train, y_test)"
   ]
  },
  {
   "cell_type": "markdown",
   "id": "75b35393",
   "metadata": {},
   "source": [
    "# Naive-Bayes Classifier"
   ]
  },
  {
   "cell_type": "code",
   "execution_count": 39,
   "id": "02b25d29",
   "metadata": {},
   "outputs": [
    {
     "name": "stdout",
     "output_type": "stream",
     "text": [
      "Accuracy_Score of MultinomialNB() model on Training Data is: 75.856 %\n",
      "Accuracy_Score of MultinomialNB() model on Testing Data is: 75.848 %\n",
      "Precision Score of MultinomialNB() model is: 77.133 %\n",
      "Recall Score of MultinomialNB() model is: 74.146 %\n",
      "F1 Score of MultinomialNB() model is: 75.61 %\n",
      "Confusion Matrix of MultinomialNB() model is:\n"
     ]
    },
    {
     "data": {
      "image/png": "[encoded data removed]",
      "text/plain": [
       "<Figure size 700x300 with 2 Axes>"
      ]
     },
     "metadata": {},
     "output_type": "display_data"
    }
   ],
   "source": [
    "X_train_naive, X_test_naive, y_train_naive, y_test_naive = np.abs(X_train),np.abs(X_test),np.abs(y_train),np.abs(y_test)\n",
    "\n",
    "naive_model = MultinomialNB()\n",
    "\n",
    "naive_name = 'Naive-Bayes Classifier'\n",
    "#naive_accuracy_train_score,naive_accuracy_test_score,naive_precision_score,naive_recall_score,naive_f1_score=model_prediction(naive_model,naive_name,X_train, X_test, y_train, y_test)\n",
    "naive_accuracy_train_score,naive_accuracy_test_score,naive_precision_score,naive_recall_score,naive_f1_score=model_prediction(naive_model,naive_name,X_train_naive, X_test_naive, y_train_naive, y_test_naive)"
   ]
  },
  {
   "cell_type": "markdown",
   "id": "b8749f4f",
   "metadata": {},
   "source": [
    "# Decision Tree Classifier"
   ]
  },
  {
   "cell_type": "code",
   "execution_count": 40,
   "id": "c3905d53",
   "metadata": {},
   "outputs": [
    {
     "name": "stdout",
     "output_type": "stream",
     "text": [
      "Accuracy_Score of DecisionTreeClassifier(max_depth=5, min_samples_split=10, random_state=42) model on Training Data is: 79.58 %\n",
      "Accuracy_Score of DecisionTreeClassifier(max_depth=5, min_samples_split=10, random_state=42) model on Testing Data is: 76.251 %\n",
      "Precision Score of DecisionTreeClassifier(max_depth=5, min_samples_split=10, random_state=42) model is: 76.036 %\n",
      "Recall Score of DecisionTreeClassifier(max_depth=5, min_samples_split=10, random_state=42) model is: 77.335 %\n",
      "F1 Score of DecisionTreeClassifier(max_depth=5, min_samples_split=10, random_state=42) model is: 76.68 %\n",
      "Confusion Matrix of DecisionTreeClassifier(max_depth=5, min_samples_split=10, random_state=42) model is:\n"
     ]
    },
    {
     "data": {
      "image/png": "[encoded data removed]",
      "text/plain": [
       "<Figure size 700x300 with 2 Axes>"
      ]
     },
     "metadata": {},
     "output_type": "display_data"
    }
   ],
   "source": [
    "dt_name = 'Decision Tree Classifier'\n",
    "dt_model = DecisionTreeClassifier(max_depth=5, min_samples_split=10, random_state=42)\n",
    "dt_accuracy_train_score,dt_accuracy_test_score,dt_precision_score,dt_recall_score,dt_f1_score=model_prediction(dt_model,dt_name,X_train, X_test, y_train, y_test)"
   ]
  },
  {
   "cell_type": "code",
   "execution_count": 41,
   "id": "9dc00fe0",
   "metadata": {},
   "outputs": [],
   "source": [
    "training_score = [logistic_accuracy_train_score,rfs_accuracy_train_score,svm_accuracy_train_score,knn_accuracy_train_score,naive_accuracy_train_score,dt_accuracy_train_score]\n",
    "testing_score = [logistic_accuracy_test_score,rfs_accuracy_test_score,svm_accuracy_test_score,knn_accuracy_test_score,naive_accuracy_test_score,dt_accuracy_test_score]\n",
    "precision_score = [logistic_precision_score,rfs_precision_score,svm_precision_score,knn_precision_score,naive_precision_score,dt_precision_score]\n",
    "recall_score = [logistic_recall_score,rfs_recall_score,svm_recall_score,knn_recall_score,naive_recall_score,dt_recall_score]\n",
    "f1_score = [logistic_f1_score,rfs_f1_score,svm_f1_score,knn_f1_score,naive_f1_score,dt_f1_score]"
   ]
  },
  {
   "cell_type": "code",
   "execution_count": 42,
   "id": "95c03faf",
   "metadata": {},
   "outputs": [
    {
     "data": {
      "image/png": "[encoded data removed]",
      "text/plain": [
       "<Figure size 1500x600 with 1 Axes>"
      ]
     },
     "metadata": {},
     "output_type": "display_data"
    }
   ],
   "source": [
    "model_names = [logistic_name,rfs_name,svm_name,knn_name,naive_name,dt_name]\n",
    "ml_df = pd.DataFrame({\"Models\":model_names,\n",
    "                   \"Training Score in %\":training_score,\n",
    "                   \"Testing Score in %\":testing_score,\n",
    "                   'Precision Score in %':precision_score,\n",
    "                    'Recall Score in %':recall_score,\n",
    "                    'F1-Score in %':f1_score\n",
    "                     })\n",
    "ml_df.plot(x=\"Models\",y=[\"Training Score in %\",\"Testing Score in %\",'Precision Score in %','Recall Score in %','F1-Score in %'], figsize=(15,6),kind=\"bar\",\n",
    "        title=\"Performance of Different Models\")\n",
    "plt.savefig('figures/model_performance_chart.png')\n",
    "plt.show()"
   ]
  },
  {
   "cell_type": "markdown",
   "id": "e5e4f30e",
   "metadata": {},
   "source": [
    "# Optimizing Models"
   ]
  },
  {
   "cell_type": "markdown",
   "id": "9c839221",
   "metadata": {},
   "source": [
    "## Randomized Search"
   ]
  },
  {
   "cell_type": "code",
   "execution_count": 34,
   "id": "cd799d33",
   "metadata": {},
   "outputs": [],
   "source": [
    "from sklearn.model_selection import GridSearchCV\n",
    "from sklearn.model_selection import RandomizedSearchCV"
   ]
  },
  {
   "cell_type": "code",
   "execution_count": null,
   "id": "316e90f0",
   "metadata": {},
   "outputs": [],
   "source": [
    "model_types = [log_model,rfs_model,svm_model,knn_model,naive_model,dt_model]"
   ]
  },
  {
   "cell_type": "code",
   "execution_count": 39,
   "id": "4a75938b",
   "metadata": {},
   "outputs": [],
   "source": [
    "model_params = {\n",
    "    'logistic_regression' : {\n",
    "        'model': LogisticRegression(solver='liblinear',multi_class='auto'),\n",
    "        'params': {\n",
    "            'C': [1,5,10]\n",
    "        }\n",
    "    },\n",
    "   \n",
    "    'random_forest': {\n",
    "        'model': RandomForestClassifier(),\n",
    "        'params' : {\n",
    "            'n_estimators': [1,5,10]\n",
    "        }\n",
    "    },\n",
    "    \n",
    "    'svm': {\n",
    "        'model': SVC(),\n",
    "        'params' : {\n",
    "            'C': [0.1, 1, 10, 100],\n",
    "            'kernel': ['rbf','linear','poly','sigmoid'],\n",
    "            'gamma': [0.1, 1, 10, 100]\n",
    "        }  \n",
    "    },\n",
    "    \n",
    "     'knn': {\n",
    "        'model': KNeighborsClassifier(),\n",
    "        'params' : {\n",
    "            'n_neighbors': [3,5,7,9,11]\n",
    "        }  \n",
    "    },\n",
    "    \n",
    "    'decision_tree': {\n",
    "        'model': DecisionTreeClassifier(),\n",
    "        'params' : {\n",
    "            'criterion': ['gini', 'entropy'],\n",
    "            'max_depth': [5, 10, 15,20, None]\n",
    "        }  \n",
    "    },\n",
    "    \n",
    "}"
   ]
  },
  {
   "cell_type": "markdown",
   "id": "fd8dbbce",
   "metadata": {},
   "source": [
    "# Standard Grid Search CV"
   ]
  },
  {
   "cell_type": "code",
   "execution_count": null,
   "id": "34ea7e5c",
   "metadata": {},
   "outputs": [],
   "source": [
    "scores = []\n",
    "\n",
    "for model_name, mp in model_params.items():\n",
    "    clf =  GridSearchCV(mp['model'], mp['params'], cv=5, return_train_score=False)\n",
    "    clf.fit(X_train, y_train)\n",
    "    scores.append({\n",
    "        'model': model_name,\n",
    "        'best_score': clf.best_score_,\n",
    "        'best_params': clf.best_params_\n",
    "    })\n",
    "    \n",
    "df = pd.DataFrame(scores,columns=['model','best_score','best_params'])\n",
    "sorted_df = df.sort_values(by='best_score', ascending=False)\n",
    "sorted_df"
   ]
  },
  {
   "cell_type": "markdown",
   "id": "c78ce805",
   "metadata": {},
   "source": [
    "## Grid Search CV"
   ]
  },
  {
   "cell_type": "code",
   "execution_count": null,
   "id": "c3175e73",
   "metadata": {},
   "outputs": [],
   "source": [
    "from sklearn.metrics import precision_score, recall_score, f1_score\n",
    "\n",
    "scores = []\n",
    "\n",
    "for model_name, mp in model_params.items():\n",
    "    clf =  GridSearchCV(mp['model'], mp['params'], cv=10, return_train_score=False)\n",
    "    clf.fit(X_train, y_train)\n",
    "    \n",
    "    y_pred = clf.predict(X_test)\n",
    "    precision = precision_score(y_test, y_pred, average='weighted')\n",
    "    recall = recall_score(y_test, y_pred, average='weighted')\n",
    "    f1 = f1_score(y_test, y_pred, average='weighted')\n",
    "    \n",
    "    scores.append({\n",
    "        'model': model_name,\n",
    "        'best_score': clf.best_score_,\n",
    "        'precision': precision,\n",
    "        'recall': recall,\n",
    "        'f1_score': f1,\n",
    "        'best_params': clf.best_params_\n",
    "    })\n",
    "    \n",
    "grid_df = pd.DataFrame(scores,columns=['model','best_score', 'precision', 'recall', 'f1_score','best_params'])\n",
    "grid_df_sorted = grid_df.sort_values(by='best_score', ascending=False)\n",
    "grid_df_sorted"
   ]
  },
  {
   "cell_type": "markdown",
   "id": "e232ab38",
   "metadata": {},
   "source": [
    "## Randomized Search CV"
   ]
  },
  {
   "cell_type": "code",
   "execution_count": null,
   "id": "9918cb7e",
   "metadata": {},
   "outputs": [],
   "source": [
    "from sklearn.model_selection import RandomizedSearchCV\n",
    "from scipy.stats import uniform, randint\n",
    "\n",
    "scores = []\n",
    "\n",
    "for model_name, mp in model_params.items():\n",
    "    if model_name == 'svm':\n",
    "        param_dist = {\n",
    "            'C': uniform(0, 20),\n",
    "            'gamma': uniform(0, 1),\n",
    "            'kernel': ['rbf', 'linear']\n",
    "        }\n",
    "    else:\n",
    "        param_dist = mp['params']\n",
    "    \n",
    "    clf = RandomizedSearchCV(mp['model'], param_distributions=param_dist, n_iter=10, cv=10)\n",
    "    clf.fit(X_train, y_train)\n",
    "    \n",
    "    y_pred = clf.predict(X_test)\n",
    "    precision = precision_score(y_test, y_pred, average='weighted')\n",
    "    recall = recall_score(y_test, y_pred, average='weighted')\n",
    "    f1 = f1_score(y_test, y_pred, average='weighted')\n",
    "    \n",
    "    scores.append({\n",
    "        'model': model_name,\n",
    "        'best_score': clf.best_score_,\n",
    "        'precision': precision,\n",
    "        'recall': recall,\n",
    "        'f1_score': f1,\n",
    "        'best_params': clf.best_params_\n",
    "    })\n",
    "    \n",
    "random_df = pd.DataFrame(scores,columns=['model','best_score', 'precision', 'recall', 'f1_score','best_params'])\n",
    "random_df_sorted = random_df.sort_values(by='best_score', ascending=False)\n",
    "random_df_sorted"
   ]
  },
  {
   "cell_type": "markdown",
   "id": "b3af3285",
   "metadata": {},
   "source": [
    "# Support Vector Machine"
   ]
  },
  {
   "cell_type": "code",
   "execution_count": 46,
   "id": "08e91e8e",
   "metadata": {},
   "outputs": [
    {
     "data": {
      "text/html": [
       "<div>\n",
       "<style scoped>\n",
       "    .dataframe tbody tr th:only-of-type {\n",
       "        vertical-align: middle;\n",
       "    }\n",
       "\n",
       "    .dataframe tbody tr th {\n",
       "        vertical-align: top;\n",
       "    }\n",
       "\n",
       "    .dataframe thead th {\n",
       "        text-align: right;\n",
       "    }\n",
       "</style>\n",
       "<table border=\"1\" class=\"dataframe\">\n",
       "  <thead>\n",
       "    <tr style=\"text-align: right;\">\n",
       "      <th></th>\n",
       "      <th>param_C</th>\n",
       "      <th>param_kernel</th>\n",
       "      <th>mean_test_score</th>\n",
       "    </tr>\n",
       "  </thead>\n",
       "  <tbody>\n",
       "    <tr>\n",
       "      <th>0</th>\n",
       "      <td>10</td>\n",
       "      <td>sigmoid</td>\n",
       "      <td>0.726062</td>\n",
       "    </tr>\n",
       "    <tr>\n",
       "      <th>1</th>\n",
       "      <td>1</td>\n",
       "      <td>linear</td>\n",
       "      <td>0.801986</td>\n",
       "    </tr>\n",
       "    <tr>\n",
       "      <th>2</th>\n",
       "      <td>30</td>\n",
       "      <td>poly</td>\n",
       "      <td>0.795948</td>\n",
       "    </tr>\n",
       "    <tr>\n",
       "      <th>3</th>\n",
       "      <td>1</td>\n",
       "      <td>rbf</td>\n",
       "      <td>0.800980</td>\n",
       "    </tr>\n",
       "    <tr>\n",
       "      <th>4</th>\n",
       "      <td>20</td>\n",
       "      <td>rbf</td>\n",
       "      <td>0.805008</td>\n",
       "    </tr>\n",
       "  </tbody>\n",
       "</table>\n",
       "</div>"
      ],
      "text/plain": [
       "  param_C param_kernel  mean_test_score\n",
       "0      10      sigmoid         0.726062\n",
       "1       1       linear         0.801986\n",
       "2      30         poly         0.795948\n",
       "3       1          rbf         0.800980\n",
       "4      20          rbf         0.805008"
      ]
     },
     "execution_count": 46,
     "metadata": {},
     "output_type": "execute_result"
    }
   ],
   "source": [
    "from sklearn.model_selection import RandomizedSearchCV\n",
    "svmrs = RandomizedSearchCV(SVC(gamma='auto'), {\n",
    "        'C': [1,10,15,20,25,30],\n",
    "        'kernel': ['rbf','linear','poly','sigmoid']\n",
    "    }, \n",
    "    cv=10, \n",
    "    return_train_score=False, \n",
    "    n_iter=5\n",
    ")\n",
    "svmrs.fit(X_train, y_train)\n",
    "svm_opt = pd.DataFrame(svmrs.cv_results_)[['param_C','param_kernel','mean_test_score']]\n",
    "svm_opt"
   ]
  },
  {
   "cell_type": "code",
   "execution_count": 47,
   "id": "e3a3fb49",
   "metadata": {},
   "outputs": [
    {
     "data": {
      "text/html": [
       "<div>\n",
       "<style scoped>\n",
       "    .dataframe tbody tr th:only-of-type {\n",
       "        vertical-align: middle;\n",
       "    }\n",
       "\n",
       "    .dataframe tbody tr th {\n",
       "        vertical-align: top;\n",
       "    }\n",
       "\n",
       "    .dataframe thead th {\n",
       "        text-align: right;\n",
       "    }\n",
       "</style>\n",
       "<table border=\"1\" class=\"dataframe\">\n",
       "  <thead>\n",
       "    <tr style=\"text-align: right;\">\n",
       "      <th></th>\n",
       "      <th>param_C</th>\n",
       "      <th>param_kernel</th>\n",
       "      <th>mean_test_score</th>\n",
       "    </tr>\n",
       "  </thead>\n",
       "  <tbody>\n",
       "    <tr>\n",
       "      <th>4</th>\n",
       "      <td>20</td>\n",
       "      <td>rbf</td>\n",
       "      <td>0.805008</td>\n",
       "    </tr>\n",
       "    <tr>\n",
       "      <th>1</th>\n",
       "      <td>1</td>\n",
       "      <td>linear</td>\n",
       "      <td>0.801986</td>\n",
       "    </tr>\n",
       "    <tr>\n",
       "      <th>3</th>\n",
       "      <td>1</td>\n",
       "      <td>rbf</td>\n",
       "      <td>0.800980</td>\n",
       "    </tr>\n",
       "    <tr>\n",
       "      <th>2</th>\n",
       "      <td>30</td>\n",
       "      <td>poly</td>\n",
       "      <td>0.795948</td>\n",
       "    </tr>\n",
       "    <tr>\n",
       "      <th>0</th>\n",
       "      <td>10</td>\n",
       "      <td>sigmoid</td>\n",
       "      <td>0.726062</td>\n",
       "    </tr>\n",
       "  </tbody>\n",
       "</table>\n",
       "</div>"
      ],
      "text/plain": [
       "  param_C param_kernel  mean_test_score\n",
       "4      20          rbf         0.805008\n",
       "1       1       linear         0.801986\n",
       "3       1          rbf         0.800980\n",
       "2      30         poly         0.795948\n",
       "0      10      sigmoid         0.726062"
      ]
     },
     "execution_count": 47,
     "metadata": {},
     "output_type": "execute_result"
    }
   ],
   "source": [
    "random_df_sorted = svm_opt.sort_values(by='mean_test_score', ascending=False)\n",
    "random_df_sorted"
   ]
  },
  {
   "cell_type": "code",
   "execution_count": null,
   "id": "7b371518",
   "metadata": {},
   "outputs": [],
   "source": [
    "svm_opt_predictions = svmrs.predict(X_test_samples)"
   ]
  },
  {
   "cell_type": "markdown",
   "id": "cdd5dce8",
   "metadata": {},
   "source": [
    "# Gradient Boosted Classifier"
   ]
  },
  {
   "cell_type": "code",
   "execution_count": 37,
   "id": "0004974c",
   "metadata": {},
   "outputs": [
    {
     "data": {
      "text/plain": [
       "{'n_estimators': 150, 'max_depth': 3, 'learning_rate': 0.1}"
      ]
     },
     "execution_count": 37,
     "metadata": {},
     "output_type": "execute_result"
    }
   ],
   "source": [
    "gbc_model = GradientBoostingClassifier()\n",
    "parameters = {\n",
    "    \"n_estimators\":[5,50,100,150],\n",
    "    \"max_depth\":[1,3,5,7,9],\n",
    "   \"learning_rate\":[0.01,0.1,1,10]\n",
    "}\n",
    "\n",
    "\n",
    "cv = RandomizedSearchCV(gbc_model, parameters, n_iter=27, scoring='accuracy', cv=5, random_state=1)\n",
    "cv.fit(X_train,y_train)\n",
    "cv.best_params_"
   ]
  },
  {
   "cell_type": "code",
   "execution_count": 39,
   "id": "32fc8612",
   "metadata": {},
   "outputs": [
    {
     "data": {
      "text/plain": [
       "0.8293068737417314"
      ]
     },
     "execution_count": 39,
     "metadata": {},
     "output_type": "execute_result"
    }
   ],
   "source": [
    "cv.score(X_train,y_train)"
   ]
  },
  {
   "cell_type": "code",
   "execution_count": 40,
   "id": "86e02118",
   "metadata": {},
   "outputs": [],
   "source": [
    "gbc_predictions = cv.predict(X_test_samples)"
   ]
  },
  {
   "cell_type": "code",
   "execution_count": 41,
   "id": "77953fb1",
   "metadata": {},
   "outputs": [],
   "source": [
    "predictions = gbc_predictions"
   ]
  },
  {
   "cell_type": "markdown",
   "id": "0d59301f",
   "metadata": {},
   "source": [
    "# Extreme Gradient Boosting"
   ]
  },
  {
   "cell_type": "code",
   "execution_count": 47,
   "id": "3a2b9b74",
   "metadata": {},
   "outputs": [
    {
     "data": {
      "text/plain": [
       "0.9213402358354904"
      ]
     },
     "execution_count": 47,
     "metadata": {},
     "output_type": "execute_result"
    }
   ],
   "source": [
    "from xgboost import XGBClassifier\n",
    "xgb = XGBClassifier()\n",
    "xgb.fit(X_train,y_train)\n",
    "xgb.score(X_train,y_train)"
   ]
  },
  {
   "cell_type": "code",
   "execution_count": null,
   "id": "b42998b0",
   "metadata": {},
   "outputs": [],
   "source": [
    "predictions = xgb.predict(X_test_samples)\n",
    "predictions"
   ]
  },
  {
   "cell_type": "markdown",
   "id": "8343300b",
   "metadata": {},
   "source": [
    "# Cat Boost Classifier"
   ]
  },
  {
   "cell_type": "code",
   "execution_count": 40,
   "id": "9c2fc83d",
   "metadata": {},
   "outputs": [
    {
     "name": "stdout",
     "output_type": "stream",
     "text": [
      "Accuracy Score: 0.9291055507621513\n"
     ]
    },
    {
     "data": {
      "text/plain": [
       "array([1, 0, 1, ..., 1, 1, 1], dtype=int64)"
      ]
     },
     "execution_count": 40,
     "metadata": {},
     "output_type": "execute_result"
    }
   ],
   "source": [
    "from catboost import CatBoostClassifier\n",
    "# grid_parameters = {'iterations':[300,500,600,800,1000],\n",
    "#               'learning_rate':[0.01,0.03,0.05,0.07,0.09,0.11],\n",
    "#               'depth':[2,5,10,15,20]\n",
    "#              }\n",
    "catgrid = CatBoostClassifier(depth=15,iterations=700,learning_rate=0.01,verbose = 0)\n",
    "catgrid.fit(X_train,y_train)\n",
    "print('Accuracy Score:',catgrid.score(X_train,y_train)) #so far this is the best one with an accuracy of 0.80406\n",
    "predictions = catgrid.predict(X_test_samples)\n",
    "predictions"
   ]
  },
  {
   "cell_type": "code",
   "execution_count": 57,
   "id": "5e2b4f91",
   "metadata": {},
   "outputs": [
    {
     "name": "stdout",
     "output_type": "stream",
     "text": [
      "Accuracy Score: 0.8822260569456428\n"
     ]
    },
    {
     "data": {
      "text/plain": [
       "array([1, 0, 1, ..., 1, 1, 1], dtype=int64)"
      ]
     },
     "execution_count": 57,
     "metadata": {},
     "output_type": "execute_result"
    }
   ],
   "source": [
    "#Once submission re-opens, let's try this\n",
    "catgrid = CatBoostClassifier(depth=6,iterations=300,learning_rate=0.1,verbose = 0)\n",
    "catgrid.fit(X_train,y_train)\n",
    "print('Accuracy Score:',catgrid.score(X_train,y_train)) #so far this is the best one with an accuracy of 0.8xx\n",
    "predictions = catgrid.predict(X_test_samples)\n",
    "predictions"
   ]
  },
  {
   "cell_type": "markdown",
   "id": "8549ee39",
   "metadata": {},
   "source": [
    "# Submissions"
   ]
  },
  {
   "cell_type": "code",
   "execution_count": 55,
   "id": "2226c41b",
   "metadata": {},
   "outputs": [],
   "source": [
    "# Submission Process\n",
    "submissions = pd.DataFrame({'PassengerId': passenger_id, 'Transported': predictions})\n",
    "submissions['Transported'] = submissions['Transported'].astype('bool')\n",
    "submissions.to_csv(\"submissions/spaceship_prediction.csv\",index=False)"
   ]
  },
  {
   "cell_type": "markdown",
   "id": "8faf87ea",
   "metadata": {},
   "source": [
    "# References:\n",
    "\n",
    "https://github.com/kumod007/Titanic-Spaceship-Kaggle-Competition-End-To-End-Project/blob/main/titanic-spaceship-competition-end-to-end-project%20(2).ipynb"
   ]
  },
  {
   "cell_type": "markdown",
   "id": "0afeb68b",
   "metadata": {},
   "source": [
    "https://www.kaggle.com/code/doggypiggy/spaceship-titanic-top-10-0-80617"
   ]
  },
  {
   "cell_type": "code",
   "execution_count": null,
   "id": "29002ce5",
   "metadata": {},
   "outputs": [],
   "source": []
  }
 ],
 "metadata": {
  "kernelspec": {
   "display_name": "Python 3 (ipykernel)",
   "language": "python",
   "name": "python3"
  },
  "language_info": {
   "codemirror_mode": {
    "name": "ipython",
    "version": 3
   },
   "file_extension": ".py",
   "mimetype": "text/x-python",
   "name": "python",
   "nbconvert_exporter": "python",
   "pygments_lexer": "ipython3",
   "version": "3.9.13"
  }
 },
 "nbformat": 4,
 "nbformat_minor": 5
}
