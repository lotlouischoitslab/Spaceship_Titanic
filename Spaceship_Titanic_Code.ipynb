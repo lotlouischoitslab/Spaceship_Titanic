{
 "cells": [
  {
   "cell_type": "markdown",
   "id": "fb6584ee",
   "metadata": {},
   "source": [
    "# 1. Data Description"
   ]
  },
  {
   "cell_type": "code",
   "execution_count": 1,
   "id": "b959e465",
   "metadata": {},
   "outputs": [],
   "source": [
    "import numpy as np\n",
    "import pandas as pd\n",
    "import seaborn as sns\n",
    "import matplotlib.pyplot as plt\n",
    "%matplotlib inline\n",
    "import warnings \n",
    "warnings.filterwarnings('ignore')\n",
    "from sklearn.feature_selection import SelectKBest, chi2"
   ]
  },
  {
   "cell_type": "code",
   "execution_count": 2,
   "id": "3d23d7de",
   "metadata": {},
   "outputs": [],
   "source": [
    "training = pd.read_csv('datasets/train.csv')\n",
    "testing = pd.read_csv('datasets/test.csv')\n",
    "combined = pd.concat([training,testing],axis=0,ignore_index=True)"
   ]
  },
  {
   "cell_type": "code",
   "execution_count": 3,
   "id": "3eec73f7",
   "metadata": {},
   "outputs": [
    {
     "data": {
      "text/html": [
       "<div>\n",
       "<style scoped>\n",
       "    .dataframe tbody tr th:only-of-type {\n",
       "        vertical-align: middle;\n",
       "    }\n",
       "\n",
       "    .dataframe tbody tr th {\n",
       "        vertical-align: top;\n",
       "    }\n",
       "\n",
       "    .dataframe thead th {\n",
       "        text-align: right;\n",
       "    }\n",
       "</style>\n",
       "<table border=\"1\" class=\"dataframe\">\n",
       "  <thead>\n",
       "    <tr style=\"text-align: right;\">\n",
       "      <th></th>\n",
       "      <th>PassengerId</th>\n",
       "      <th>HomePlanet</th>\n",
       "      <th>CryoSleep</th>\n",
       "      <th>Cabin</th>\n",
       "      <th>Destination</th>\n",
       "      <th>Age</th>\n",
       "      <th>VIP</th>\n",
       "      <th>RoomService</th>\n",
       "      <th>FoodCourt</th>\n",
       "      <th>ShoppingMall</th>\n",
       "      <th>Spa</th>\n",
       "      <th>VRDeck</th>\n",
       "      <th>Name</th>\n",
       "      <th>Transported</th>\n",
       "    </tr>\n",
       "  </thead>\n",
       "  <tbody>\n",
       "    <tr>\n",
       "      <th>0</th>\n",
       "      <td>0001_01</td>\n",
       "      <td>Europa</td>\n",
       "      <td>False</td>\n",
       "      <td>B/0/P</td>\n",
       "      <td>TRAPPIST-1e</td>\n",
       "      <td>39.0</td>\n",
       "      <td>False</td>\n",
       "      <td>0.0</td>\n",
       "      <td>0.0</td>\n",
       "      <td>0.0</td>\n",
       "      <td>0.0</td>\n",
       "      <td>0.0</td>\n",
       "      <td>Maham Ofracculy</td>\n",
       "      <td>False</td>\n",
       "    </tr>\n",
       "    <tr>\n",
       "      <th>1</th>\n",
       "      <td>0002_01</td>\n",
       "      <td>Earth</td>\n",
       "      <td>False</td>\n",
       "      <td>F/0/S</td>\n",
       "      <td>TRAPPIST-1e</td>\n",
       "      <td>24.0</td>\n",
       "      <td>False</td>\n",
       "      <td>109.0</td>\n",
       "      <td>9.0</td>\n",
       "      <td>25.0</td>\n",
       "      <td>549.0</td>\n",
       "      <td>44.0</td>\n",
       "      <td>Juanna Vines</td>\n",
       "      <td>True</td>\n",
       "    </tr>\n",
       "    <tr>\n",
       "      <th>2</th>\n",
       "      <td>0003_01</td>\n",
       "      <td>Europa</td>\n",
       "      <td>False</td>\n",
       "      <td>A/0/S</td>\n",
       "      <td>TRAPPIST-1e</td>\n",
       "      <td>58.0</td>\n",
       "      <td>True</td>\n",
       "      <td>43.0</td>\n",
       "      <td>3576.0</td>\n",
       "      <td>0.0</td>\n",
       "      <td>6715.0</td>\n",
       "      <td>49.0</td>\n",
       "      <td>Altark Susent</td>\n",
       "      <td>False</td>\n",
       "    </tr>\n",
       "    <tr>\n",
       "      <th>3</th>\n",
       "      <td>0003_02</td>\n",
       "      <td>Europa</td>\n",
       "      <td>False</td>\n",
       "      <td>A/0/S</td>\n",
       "      <td>TRAPPIST-1e</td>\n",
       "      <td>33.0</td>\n",
       "      <td>False</td>\n",
       "      <td>0.0</td>\n",
       "      <td>1283.0</td>\n",
       "      <td>371.0</td>\n",
       "      <td>3329.0</td>\n",
       "      <td>193.0</td>\n",
       "      <td>Solam Susent</td>\n",
       "      <td>False</td>\n",
       "    </tr>\n",
       "    <tr>\n",
       "      <th>4</th>\n",
       "      <td>0004_01</td>\n",
       "      <td>Earth</td>\n",
       "      <td>False</td>\n",
       "      <td>F/1/S</td>\n",
       "      <td>TRAPPIST-1e</td>\n",
       "      <td>16.0</td>\n",
       "      <td>False</td>\n",
       "      <td>303.0</td>\n",
       "      <td>70.0</td>\n",
       "      <td>151.0</td>\n",
       "      <td>565.0</td>\n",
       "      <td>2.0</td>\n",
       "      <td>Willy Santantines</td>\n",
       "      <td>True</td>\n",
       "    </tr>\n",
       "  </tbody>\n",
       "</table>\n",
       "</div>"
      ],
      "text/plain": [
       "  PassengerId HomePlanet CryoSleep  Cabin  Destination   Age    VIP  \\\n",
       "0     0001_01     Europa     False  B/0/P  TRAPPIST-1e  39.0  False   \n",
       "1     0002_01      Earth     False  F/0/S  TRAPPIST-1e  24.0  False   \n",
       "2     0003_01     Europa     False  A/0/S  TRAPPIST-1e  58.0   True   \n",
       "3     0003_02     Europa     False  A/0/S  TRAPPIST-1e  33.0  False   \n",
       "4     0004_01      Earth     False  F/1/S  TRAPPIST-1e  16.0  False   \n",
       "\n",
       "   RoomService  FoodCourt  ShoppingMall     Spa  VRDeck               Name  \\\n",
       "0          0.0        0.0           0.0     0.0     0.0    Maham Ofracculy   \n",
       "1        109.0        9.0          25.0   549.0    44.0       Juanna Vines   \n",
       "2         43.0     3576.0           0.0  6715.0    49.0      Altark Susent   \n",
       "3          0.0     1283.0         371.0  3329.0   193.0       Solam Susent   \n",
       "4        303.0       70.0         151.0   565.0     2.0  Willy Santantines   \n",
       "\n",
       "   Transported  \n",
       "0        False  \n",
       "1         True  \n",
       "2        False  \n",
       "3        False  \n",
       "4         True  "
      ]
     },
     "execution_count": 3,
     "metadata": {},
     "output_type": "execute_result"
    }
   ],
   "source": [
    "training.head()"
   ]
  },
  {
   "cell_type": "code",
   "execution_count": 4,
   "id": "f2cae939",
   "metadata": {},
   "outputs": [
    {
     "data": {
      "text/html": [
       "<div>\n",
       "<style scoped>\n",
       "    .dataframe tbody tr th:only-of-type {\n",
       "        vertical-align: middle;\n",
       "    }\n",
       "\n",
       "    .dataframe tbody tr th {\n",
       "        vertical-align: top;\n",
       "    }\n",
       "\n",
       "    .dataframe thead th {\n",
       "        text-align: right;\n",
       "    }\n",
       "</style>\n",
       "<table border=\"1\" class=\"dataframe\">\n",
       "  <thead>\n",
       "    <tr style=\"text-align: right;\">\n",
       "      <th></th>\n",
       "      <th>PassengerId</th>\n",
       "      <th>HomePlanet</th>\n",
       "      <th>CryoSleep</th>\n",
       "      <th>Cabin</th>\n",
       "      <th>Destination</th>\n",
       "      <th>Age</th>\n",
       "      <th>VIP</th>\n",
       "      <th>RoomService</th>\n",
       "      <th>FoodCourt</th>\n",
       "      <th>ShoppingMall</th>\n",
       "      <th>Spa</th>\n",
       "      <th>VRDeck</th>\n",
       "      <th>Name</th>\n",
       "    </tr>\n",
       "  </thead>\n",
       "  <tbody>\n",
       "    <tr>\n",
       "      <th>0</th>\n",
       "      <td>0013_01</td>\n",
       "      <td>Earth</td>\n",
       "      <td>True</td>\n",
       "      <td>G/3/S</td>\n",
       "      <td>TRAPPIST-1e</td>\n",
       "      <td>27.0</td>\n",
       "      <td>False</td>\n",
       "      <td>0.0</td>\n",
       "      <td>0.0</td>\n",
       "      <td>0.0</td>\n",
       "      <td>0.0</td>\n",
       "      <td>0.0</td>\n",
       "      <td>Nelly Carsoning</td>\n",
       "    </tr>\n",
       "    <tr>\n",
       "      <th>1</th>\n",
       "      <td>0018_01</td>\n",
       "      <td>Earth</td>\n",
       "      <td>False</td>\n",
       "      <td>F/4/S</td>\n",
       "      <td>TRAPPIST-1e</td>\n",
       "      <td>19.0</td>\n",
       "      <td>False</td>\n",
       "      <td>0.0</td>\n",
       "      <td>9.0</td>\n",
       "      <td>0.0</td>\n",
       "      <td>2823.0</td>\n",
       "      <td>0.0</td>\n",
       "      <td>Lerome Peckers</td>\n",
       "    </tr>\n",
       "    <tr>\n",
       "      <th>2</th>\n",
       "      <td>0019_01</td>\n",
       "      <td>Europa</td>\n",
       "      <td>True</td>\n",
       "      <td>C/0/S</td>\n",
       "      <td>55 Cancri e</td>\n",
       "      <td>31.0</td>\n",
       "      <td>False</td>\n",
       "      <td>0.0</td>\n",
       "      <td>0.0</td>\n",
       "      <td>0.0</td>\n",
       "      <td>0.0</td>\n",
       "      <td>0.0</td>\n",
       "      <td>Sabih Unhearfus</td>\n",
       "    </tr>\n",
       "    <tr>\n",
       "      <th>3</th>\n",
       "      <td>0021_01</td>\n",
       "      <td>Europa</td>\n",
       "      <td>False</td>\n",
       "      <td>C/1/S</td>\n",
       "      <td>TRAPPIST-1e</td>\n",
       "      <td>38.0</td>\n",
       "      <td>False</td>\n",
       "      <td>0.0</td>\n",
       "      <td>6652.0</td>\n",
       "      <td>0.0</td>\n",
       "      <td>181.0</td>\n",
       "      <td>585.0</td>\n",
       "      <td>Meratz Caltilter</td>\n",
       "    </tr>\n",
       "    <tr>\n",
       "      <th>4</th>\n",
       "      <td>0023_01</td>\n",
       "      <td>Earth</td>\n",
       "      <td>False</td>\n",
       "      <td>F/5/S</td>\n",
       "      <td>TRAPPIST-1e</td>\n",
       "      <td>20.0</td>\n",
       "      <td>False</td>\n",
       "      <td>10.0</td>\n",
       "      <td>0.0</td>\n",
       "      <td>635.0</td>\n",
       "      <td>0.0</td>\n",
       "      <td>0.0</td>\n",
       "      <td>Brence Harperez</td>\n",
       "    </tr>\n",
       "  </tbody>\n",
       "</table>\n",
       "</div>"
      ],
      "text/plain": [
       "  PassengerId HomePlanet CryoSleep  Cabin  Destination   Age    VIP  \\\n",
       "0     0013_01      Earth      True  G/3/S  TRAPPIST-1e  27.0  False   \n",
       "1     0018_01      Earth     False  F/4/S  TRAPPIST-1e  19.0  False   \n",
       "2     0019_01     Europa      True  C/0/S  55 Cancri e  31.0  False   \n",
       "3     0021_01     Europa     False  C/1/S  TRAPPIST-1e  38.0  False   \n",
       "4     0023_01      Earth     False  F/5/S  TRAPPIST-1e  20.0  False   \n",
       "\n",
       "   RoomService  FoodCourt  ShoppingMall     Spa  VRDeck              Name  \n",
       "0          0.0        0.0           0.0     0.0     0.0   Nelly Carsoning  \n",
       "1          0.0        9.0           0.0  2823.0     0.0    Lerome Peckers  \n",
       "2          0.0        0.0           0.0     0.0     0.0   Sabih Unhearfus  \n",
       "3          0.0     6652.0           0.0   181.0   585.0  Meratz Caltilter  \n",
       "4         10.0        0.0         635.0     0.0     0.0   Brence Harperez  "
      ]
     },
     "execution_count": 4,
     "metadata": {},
     "output_type": "execute_result"
    }
   ],
   "source": [
    "testing.head()"
   ]
  },
  {
   "cell_type": "markdown",
   "id": "d2fa24f3",
   "metadata": {},
   "source": [
    "# Data Visualization"
   ]
  },
  {
   "cell_type": "code",
   "execution_count": 5,
   "id": "077a7d5e",
   "metadata": {},
   "outputs": [
    {
     "name": "stdout",
     "output_type": "stream",
     "text": [
      "PassengerId       0\n",
      "HomePlanet      201\n",
      "CryoSleep       217\n",
      "Cabin           199\n",
      "Destination     182\n",
      "Age             179\n",
      "VIP             203\n",
      "RoomService     181\n",
      "FoodCourt       183\n",
      "ShoppingMall    208\n",
      "Spa             183\n",
      "VRDeck          188\n",
      "Name            200\n",
      "Transported       0\n",
      "dtype: int64\n"
     ]
    }
   ],
   "source": [
    "null_counts = training.isnull().sum() #count the number of null values\n",
    "print(null_counts)"
   ]
  },
  {
   "cell_type": "code",
   "execution_count": 6,
   "id": "a9011b33",
   "metadata": {},
   "outputs": [
    {
     "data": {
      "text/plain": [
       "PassengerId      object\n",
       "HomePlanet       object\n",
       "CryoSleep        object\n",
       "Cabin            object\n",
       "Destination      object\n",
       "Age             float64\n",
       "VIP              object\n",
       "RoomService     float64\n",
       "FoodCourt       float64\n",
       "ShoppingMall    float64\n",
       "Spa             float64\n",
       "VRDeck          float64\n",
       "Name             object\n",
       "Transported        bool\n",
       "dtype: object"
      ]
     },
     "execution_count": 6,
     "metadata": {},
     "output_type": "execute_result"
    }
   ],
   "source": [
    "training.dtypes"
   ]
  },
  {
   "cell_type": "markdown",
   "id": "10484257",
   "metadata": {},
   "source": [
    "# Combined Data Analysis"
   ]
  },
  {
   "cell_type": "code",
   "execution_count": 7,
   "id": "24228d10",
   "metadata": {},
   "outputs": [
    {
     "data": {
      "text/html": [
       "<div>\n",
       "<style scoped>\n",
       "    .dataframe tbody tr th:only-of-type {\n",
       "        vertical-align: middle;\n",
       "    }\n",
       "\n",
       "    .dataframe tbody tr th {\n",
       "        vertical-align: top;\n",
       "    }\n",
       "\n",
       "    .dataframe thead th {\n",
       "        text-align: right;\n",
       "    }\n",
       "</style>\n",
       "<table border=\"1\" class=\"dataframe\">\n",
       "  <thead>\n",
       "    <tr style=\"text-align: right;\">\n",
       "      <th></th>\n",
       "      <th>PassengerId</th>\n",
       "      <th>HomePlanet</th>\n",
       "      <th>CryoSleep</th>\n",
       "      <th>Cabin</th>\n",
       "      <th>Destination</th>\n",
       "      <th>Age</th>\n",
       "      <th>VIP</th>\n",
       "      <th>RoomService</th>\n",
       "      <th>FoodCourt</th>\n",
       "      <th>ShoppingMall</th>\n",
       "      <th>Spa</th>\n",
       "      <th>VRDeck</th>\n",
       "      <th>Name</th>\n",
       "      <th>Transported</th>\n",
       "    </tr>\n",
       "  </thead>\n",
       "  <tbody>\n",
       "    <tr>\n",
       "      <th>0</th>\n",
       "      <td>0001_01</td>\n",
       "      <td>Europa</td>\n",
       "      <td>False</td>\n",
       "      <td>B/0/P</td>\n",
       "      <td>TRAPPIST-1e</td>\n",
       "      <td>39.0</td>\n",
       "      <td>False</td>\n",
       "      <td>0.0</td>\n",
       "      <td>0.0</td>\n",
       "      <td>0.0</td>\n",
       "      <td>0.0</td>\n",
       "      <td>0.0</td>\n",
       "      <td>Maham Ofracculy</td>\n",
       "      <td>False</td>\n",
       "    </tr>\n",
       "    <tr>\n",
       "      <th>1</th>\n",
       "      <td>0002_01</td>\n",
       "      <td>Earth</td>\n",
       "      <td>False</td>\n",
       "      <td>F/0/S</td>\n",
       "      <td>TRAPPIST-1e</td>\n",
       "      <td>24.0</td>\n",
       "      <td>False</td>\n",
       "      <td>109.0</td>\n",
       "      <td>9.0</td>\n",
       "      <td>25.0</td>\n",
       "      <td>549.0</td>\n",
       "      <td>44.0</td>\n",
       "      <td>Juanna Vines</td>\n",
       "      <td>True</td>\n",
       "    </tr>\n",
       "    <tr>\n",
       "      <th>2</th>\n",
       "      <td>0003_01</td>\n",
       "      <td>Europa</td>\n",
       "      <td>False</td>\n",
       "      <td>A/0/S</td>\n",
       "      <td>TRAPPIST-1e</td>\n",
       "      <td>58.0</td>\n",
       "      <td>True</td>\n",
       "      <td>43.0</td>\n",
       "      <td>3576.0</td>\n",
       "      <td>0.0</td>\n",
       "      <td>6715.0</td>\n",
       "      <td>49.0</td>\n",
       "      <td>Altark Susent</td>\n",
       "      <td>False</td>\n",
       "    </tr>\n",
       "    <tr>\n",
       "      <th>3</th>\n",
       "      <td>0003_02</td>\n",
       "      <td>Europa</td>\n",
       "      <td>False</td>\n",
       "      <td>A/0/S</td>\n",
       "      <td>TRAPPIST-1e</td>\n",
       "      <td>33.0</td>\n",
       "      <td>False</td>\n",
       "      <td>0.0</td>\n",
       "      <td>1283.0</td>\n",
       "      <td>371.0</td>\n",
       "      <td>3329.0</td>\n",
       "      <td>193.0</td>\n",
       "      <td>Solam Susent</td>\n",
       "      <td>False</td>\n",
       "    </tr>\n",
       "    <tr>\n",
       "      <th>4</th>\n",
       "      <td>0004_01</td>\n",
       "      <td>Earth</td>\n",
       "      <td>False</td>\n",
       "      <td>F/1/S</td>\n",
       "      <td>TRAPPIST-1e</td>\n",
       "      <td>16.0</td>\n",
       "      <td>False</td>\n",
       "      <td>303.0</td>\n",
       "      <td>70.0</td>\n",
       "      <td>151.0</td>\n",
       "      <td>565.0</td>\n",
       "      <td>2.0</td>\n",
       "      <td>Willy Santantines</td>\n",
       "      <td>True</td>\n",
       "    </tr>\n",
       "  </tbody>\n",
       "</table>\n",
       "</div>"
      ],
      "text/plain": [
       "  PassengerId HomePlanet CryoSleep  Cabin  Destination   Age    VIP  \\\n",
       "0     0001_01     Europa     False  B/0/P  TRAPPIST-1e  39.0  False   \n",
       "1     0002_01      Earth     False  F/0/S  TRAPPIST-1e  24.0  False   \n",
       "2     0003_01     Europa     False  A/0/S  TRAPPIST-1e  58.0   True   \n",
       "3     0003_02     Europa     False  A/0/S  TRAPPIST-1e  33.0  False   \n",
       "4     0004_01      Earth     False  F/1/S  TRAPPIST-1e  16.0  False   \n",
       "\n",
       "   RoomService  FoodCourt  ShoppingMall     Spa  VRDeck               Name  \\\n",
       "0          0.0        0.0           0.0     0.0     0.0    Maham Ofracculy   \n",
       "1        109.0        9.0          25.0   549.0    44.0       Juanna Vines   \n",
       "2         43.0     3576.0           0.0  6715.0    49.0      Altark Susent   \n",
       "3          0.0     1283.0         371.0  3329.0   193.0       Solam Susent   \n",
       "4        303.0       70.0         151.0   565.0     2.0  Willy Santantines   \n",
       "\n",
       "  Transported  \n",
       "0       False  \n",
       "1        True  \n",
       "2       False  \n",
       "3       False  \n",
       "4        True  "
      ]
     },
     "execution_count": 7,
     "metadata": {},
     "output_type": "execute_result"
    }
   ],
   "source": [
    "df = pd.concat([training,testing])\n",
    "df.head()"
   ]
  },
  {
   "cell_type": "code",
   "execution_count": 8,
   "id": "c4e1218d",
   "metadata": {},
   "outputs": [
    {
     "name": "stdout",
     "output_type": "stream",
     "text": [
      "<class 'pandas.core.frame.DataFrame'>\n",
      "Int64Index: 12970 entries, 0 to 4276\n",
      "Data columns (total 14 columns):\n",
      " #   Column        Non-Null Count  Dtype  \n",
      "---  ------        --------------  -----  \n",
      " 0   PassengerId   12970 non-null  object \n",
      " 1   HomePlanet    12682 non-null  object \n",
      " 2   CryoSleep     12660 non-null  object \n",
      " 3   Cabin         12671 non-null  object \n",
      " 4   Destination   12696 non-null  object \n",
      " 5   Age           12700 non-null  float64\n",
      " 6   VIP           12674 non-null  object \n",
      " 7   RoomService   12707 non-null  float64\n",
      " 8   FoodCourt     12681 non-null  float64\n",
      " 9   ShoppingMall  12664 non-null  float64\n",
      " 10  Spa           12686 non-null  float64\n",
      " 11  VRDeck        12702 non-null  float64\n",
      " 12  Name          12676 non-null  object \n",
      " 13  Transported   8693 non-null   object \n",
      "dtypes: float64(6), object(8)\n",
      "memory usage: 1.5+ MB\n"
     ]
    }
   ],
   "source": [
    "df.info()"
   ]
  },
  {
   "cell_type": "code",
   "execution_count": 9,
   "id": "dd293e5f",
   "metadata": {},
   "outputs": [
    {
     "data": {
      "text/html": [
       "<div>\n",
       "<style scoped>\n",
       "    .dataframe tbody tr th:only-of-type {\n",
       "        vertical-align: middle;\n",
       "    }\n",
       "\n",
       "    .dataframe tbody tr th {\n",
       "        vertical-align: top;\n",
       "    }\n",
       "\n",
       "    .dataframe thead th {\n",
       "        text-align: right;\n",
       "    }\n",
       "</style>\n",
       "<table border=\"1\" class=\"dataframe\">\n",
       "  <thead>\n",
       "    <tr style=\"text-align: right;\">\n",
       "      <th></th>\n",
       "      <th>Age</th>\n",
       "      <th>RoomService</th>\n",
       "      <th>FoodCourt</th>\n",
       "      <th>ShoppingMall</th>\n",
       "      <th>Spa</th>\n",
       "      <th>VRDeck</th>\n",
       "    </tr>\n",
       "  </thead>\n",
       "  <tbody>\n",
       "    <tr>\n",
       "      <th>count</th>\n",
       "      <td>12700.000000</td>\n",
       "      <td>12707.000000</td>\n",
       "      <td>12681.000000</td>\n",
       "      <td>12664.000000</td>\n",
       "      <td>12686.000000</td>\n",
       "      <td>12702.000000</td>\n",
       "    </tr>\n",
       "    <tr>\n",
       "      <th>mean</th>\n",
       "      <td>28.771969</td>\n",
       "      <td>222.897852</td>\n",
       "      <td>451.961675</td>\n",
       "      <td>174.906033</td>\n",
       "      <td>308.476904</td>\n",
       "      <td>306.789482</td>\n",
       "    </tr>\n",
       "    <tr>\n",
       "      <th>std</th>\n",
       "      <td>14.387261</td>\n",
       "      <td>647.596664</td>\n",
       "      <td>1584.370747</td>\n",
       "      <td>590.558690</td>\n",
       "      <td>1130.279641</td>\n",
       "      <td>1180.097223</td>\n",
       "    </tr>\n",
       "    <tr>\n",
       "      <th>min</th>\n",
       "      <td>0.000000</td>\n",
       "      <td>0.000000</td>\n",
       "      <td>0.000000</td>\n",
       "      <td>0.000000</td>\n",
       "      <td>0.000000</td>\n",
       "      <td>0.000000</td>\n",
       "    </tr>\n",
       "    <tr>\n",
       "      <th>25%</th>\n",
       "      <td>19.000000</td>\n",
       "      <td>0.000000</td>\n",
       "      <td>0.000000</td>\n",
       "      <td>0.000000</td>\n",
       "      <td>0.000000</td>\n",
       "      <td>0.000000</td>\n",
       "    </tr>\n",
       "    <tr>\n",
       "      <th>50%</th>\n",
       "      <td>27.000000</td>\n",
       "      <td>0.000000</td>\n",
       "      <td>0.000000</td>\n",
       "      <td>0.000000</td>\n",
       "      <td>0.000000</td>\n",
       "      <td>0.000000</td>\n",
       "    </tr>\n",
       "    <tr>\n",
       "      <th>75%</th>\n",
       "      <td>38.000000</td>\n",
       "      <td>49.000000</td>\n",
       "      <td>77.000000</td>\n",
       "      <td>29.000000</td>\n",
       "      <td>57.000000</td>\n",
       "      <td>42.000000</td>\n",
       "    </tr>\n",
       "    <tr>\n",
       "      <th>max</th>\n",
       "      <td>79.000000</td>\n",
       "      <td>14327.000000</td>\n",
       "      <td>29813.000000</td>\n",
       "      <td>23492.000000</td>\n",
       "      <td>22408.000000</td>\n",
       "      <td>24133.000000</td>\n",
       "    </tr>\n",
       "  </tbody>\n",
       "</table>\n",
       "</div>"
      ],
      "text/plain": [
       "                Age   RoomService     FoodCourt  ShoppingMall           Spa  \\\n",
       "count  12700.000000  12707.000000  12681.000000  12664.000000  12686.000000   \n",
       "mean      28.771969    222.897852    451.961675    174.906033    308.476904   \n",
       "std       14.387261    647.596664   1584.370747    590.558690   1130.279641   \n",
       "min        0.000000      0.000000      0.000000      0.000000      0.000000   \n",
       "25%       19.000000      0.000000      0.000000      0.000000      0.000000   \n",
       "50%       27.000000      0.000000      0.000000      0.000000      0.000000   \n",
       "75%       38.000000     49.000000     77.000000     29.000000     57.000000   \n",
       "max       79.000000  14327.000000  29813.000000  23492.000000  22408.000000   \n",
       "\n",
       "             VRDeck  \n",
       "count  12702.000000  \n",
       "mean     306.789482  \n",
       "std     1180.097223  \n",
       "min        0.000000  \n",
       "25%        0.000000  \n",
       "50%        0.000000  \n",
       "75%       42.000000  \n",
       "max    24133.000000  "
      ]
     },
     "execution_count": 9,
     "metadata": {},
     "output_type": "execute_result"
    }
   ],
   "source": [
    "df.describe()"
   ]
  },
  {
   "cell_type": "code",
   "execution_count": 10,
   "id": "8e217e4e",
   "metadata": {},
   "outputs": [
    {
     "data": {
      "text/plain": [
       "PassengerId        0\n",
       "HomePlanet       288\n",
       "CryoSleep        310\n",
       "Cabin            299\n",
       "Destination      274\n",
       "Age              270\n",
       "VIP              296\n",
       "RoomService      263\n",
       "FoodCourt        289\n",
       "ShoppingMall     306\n",
       "Spa              284\n",
       "VRDeck           268\n",
       "Name             294\n",
       "Transported     4277\n",
       "dtype: int64"
      ]
     },
     "execution_count": 10,
     "metadata": {},
     "output_type": "execute_result"
    }
   ],
   "source": [
    "df.isnull().sum()"
   ]
  },
  {
   "cell_type": "code",
   "execution_count": 11,
   "id": "499924fc",
   "metadata": {},
   "outputs": [
    {
     "data": {
      "image/png": "[encoded data removed]",
      "text/plain": [
       "<Figure size 640x480 with 1 Axes>"
      ]
     },
     "metadata": {},
     "output_type": "display_data"
    }
   ],
   "source": [
    "#Age Distribution\n",
    "df['Age'].hist(bins=10)\n",
    "plt.title(\"Histogram of Ages\")\n",
    "plt.xlabel('Ages (Years)')\n",
    "plt.ylabel('Frequency')\n",
    "plt.savefig('figures/age_distribution.png')"
   ]
  },
  {
   "cell_type": "code",
   "execution_count": 12,
   "id": "8e8506ed",
   "metadata": {},
   "outputs": [
    {
     "data": {
      "text/plain": [
       "<seaborn.axisgrid.FacetGrid at 0x24ac8bbe310>"
      ]
     },
     "execution_count": 12,
     "metadata": {},
     "output_type": "execute_result"
    },
    {
     "data": {
      "image/png": "[encoded data removed]",
      "text/plain": [
       "<Figure size 500x500 with 1 Axes>"
      ]
     },
     "metadata": {},
     "output_type": "display_data"
    }
   ],
   "source": [
    "sns.displot(df['HomePlanet'])"
   ]
  },
  {
   "cell_type": "code",
   "execution_count": 13,
   "id": "37d2f4b8",
   "metadata": {},
   "outputs": [
    {
     "data": {
      "image/png": "[encoded data removed]",
      "text/plain": [
       "<Figure size 640x480 with 1 Axes>"
      ]
     },
     "metadata": {},
     "output_type": "display_data"
    }
   ],
   "source": [
    "home_count = df['HomePlanet'].value_counts()\n",
    "home_percent = home_count / len(training)\n",
    "sizes = home_percent.values*100\n",
    "\n",
    "labels = [\"Earth\", \"Europa\", \"Mars\"]\n",
    "\n",
    "fig1, ax1 = plt.subplots()\n",
    "ax1.pie(sizes, labels=labels, autopct='%1.1f%%',\n",
    "        shadow=True, startangle=90)\n",
    "ax1.axis('equal')  # Equal aspect ratio ensures that pie is drawn as a circle.\n",
    "plt.title('Planet')\n",
    "plt.savefig('figures/planet_pie_chart.png')\n",
    "plt.show() "
   ]
  },
  {
   "cell_type": "code",
   "execution_count": 14,
   "id": "3ab7823e",
   "metadata": {},
   "outputs": [
    {
     "data": {
      "text/plain": [
       "<seaborn.axisgrid.FacetGrid at 0x24aa45a8520>"
      ]
     },
     "execution_count": 14,
     "metadata": {},
     "output_type": "execute_result"
    },
    {
     "data": {
      "image/png": "[encoded data removed]",
      "text/plain": [
       "<Figure size 500x500 with 1 Axes>"
      ]
     },
     "metadata": {},
     "output_type": "display_data"
    }
   ],
   "source": [
    "sns.displot(df['Destination'])"
   ]
  },
  {
   "cell_type": "code",
   "execution_count": 15,
   "id": "bb1f4113",
   "metadata": {},
   "outputs": [
    {
     "data": {
      "text/plain": [
       "TRAPPIST-1e      8871\n",
       "55 Cancri e      2641\n",
       "PSO J318.5-22    1184\n",
       "Name: Destination, dtype: int64"
      ]
     },
     "execution_count": 15,
     "metadata": {},
     "output_type": "execute_result"
    }
   ],
   "source": [
    "destination_count = df['Destination'].value_counts()\n",
    "destination_count"
   ]
  },
  {
   "cell_type": "code",
   "execution_count": 16,
   "id": "b36c5532",
   "metadata": {},
   "outputs": [],
   "source": [
    "labels = [\"TRAPPIST-1e\", \"55 Cancri e\", \"PSO J318.5-22\"]"
   ]
  },
  {
   "cell_type": "code",
   "execution_count": 17,
   "id": "e03de6f6",
   "metadata": {},
   "outputs": [
    {
     "data": {
      "image/png": "[encoded data removed]",
      "text/plain": [
       "<Figure size 640x480 with 1 Axes>"
      ]
     },
     "metadata": {},
     "output_type": "display_data"
    }
   ],
   "source": [
    "destination_percent = destination_count / len(df)\n",
    "sizes = destination_percent.values*100\n",
    "\n",
    "fig1, ax1 = plt.subplots()\n",
    "ax1.pie(sizes, labels=labels, autopct='%1.1f%%',\n",
    "        shadow=True, startangle=90)\n",
    "ax1.axis('equal')  # Equal aspect ratio ensures that pie is drawn as a circle.\n",
    "plt.title('Destinations')\n",
    "plt.savefig('figures/destination_pie_chart.png')\n",
    "plt.show() "
   ]
  },
  {
   "cell_type": "code",
   "execution_count": 18,
   "id": "c84af91b",
   "metadata": {},
   "outputs": [
    {
     "data": {
      "text/plain": [
       "Index(['PassengerId', 'HomePlanet', 'CryoSleep', 'Cabin', 'Destination', 'Age',\n",
       "       'VIP', 'RoomService', 'FoodCourt', 'ShoppingMall', 'Spa', 'VRDeck',\n",
       "       'Name', 'Transported'],\n",
       "      dtype='object')"
      ]
     },
     "execution_count": 18,
     "metadata": {},
     "output_type": "execute_result"
    }
   ],
   "source": [
    "all_features = df.keys()\n",
    "all_features"
   ]
  },
  {
   "cell_type": "code",
   "execution_count": 19,
   "id": "5fd943a8",
   "metadata": {},
   "outputs": [
    {
     "data": {
      "text/plain": [
       "Index(['HomePlanet', 'CryoSleep', 'Cabin', 'Destination', 'Age', 'VIP',\n",
       "       'RoomService', 'FoodCourt', 'ShoppingMall', 'Spa', 'VRDeck'],\n",
       "      dtype='object')"
      ]
     },
     "execution_count": 19,
     "metadata": {},
     "output_type": "execute_result"
    }
   ],
   "source": [
    "selected_features = all_features[1:-2:]\n",
    "selected_features"
   ]
  },
  {
   "cell_type": "code",
   "execution_count": 20,
   "id": "a82a8fa8",
   "metadata": {},
   "outputs": [
    {
     "data": {
      "text/plain": [
       "<AxesSubplot:>"
      ]
     },
     "execution_count": 20,
     "metadata": {},
     "output_type": "execute_result"
    },
    {
     "data": {
      "image/png": "[encoded data removed]",
      "text/plain": [
       "<Figure size 640x480 with 2 Axes>"
      ]
     },
     "metadata": {},
     "output_type": "display_data"
    }
   ],
   "source": [
    "matrix = df[selected_features].corr()\n",
    "sns.heatmap(matrix)"
   ]
  },
  {
   "cell_type": "code",
   "execution_count": 21,
   "id": "ad0cc034",
   "metadata": {},
   "outputs": [
    {
     "data": {
      "image/png": "[encoded data removed]",
      "text/plain": [
       "<Figure size 1200x500 with 1 Axes>"
      ]
     },
     "metadata": {},
     "output_type": "display_data"
    }
   ],
   "source": [
    "feature_importance = training.corr().Transported.abs().sort_values(ascending=False).drop('Transported',axis=0)\n",
    "plt.figure(figsize=(12,5),dpi=100)\n",
    "sns.barplot(x=feature_importance.index,y=feature_importance.values)\n",
    "plt.xlabel('Features')\n",
    "plt.ylabel('Correlation')\n",
    "plt.title('Feature Importance')\n",
    "plt.savefig('figures/correlation_importance.png')"
   ]
  },
  {
   "cell_type": "markdown",
   "id": "089b4743",
   "metadata": {},
   "source": [
    "# Machine Learning Part"
   ]
  },
  {
   "cell_type": "code",
   "execution_count": 22,
   "id": "eb0b13cc",
   "metadata": {},
   "outputs": [],
   "source": [
    "# Grouping the passengers\n",
    "training['PassengerGroup'] = training.PassengerId.str.split('_',expand=True)[0].astype('int')\n",
    "testing['PassengerGroup'] = testing.PassengerId.str.split('_',expand=True)[0].astype('int')"
   ]
  },
  {
   "cell_type": "code",
   "execution_count": 23,
   "id": "185bc708",
   "metadata": {},
   "outputs": [],
   "source": [
    "# HomePlanet\n",
    "training['HomePlanet'] = training['HomePlanet'].fillna(value='NA')\n",
    "testing['HomePlanet'] = testing['HomePlanet'].fillna(value='NA')\n",
    "\n",
    "# VIP\n",
    "training['VIP'] = training['VIP'].fillna(value=False)\n",
    "testing['VIP'] = testing['VIP'].fillna(value=False)\n",
    "\n",
    "# CryoSleep\n",
    "training['CryoSleep'] = training['CryoSleep'].fillna(value=False)\n",
    "testing['CryoSleep'] = testing['CryoSleep'].fillna(value=False)\n",
    "\n",
    "# Age\n",
    "training['Age'] = training['Age'].fillna(training.groupby('PassengerGroup')['Age'].transform('median'))\n",
    "training['Age'] = training['Age'].fillna(training.groupby('HomePlanet')['Age'].transform('median'))\n",
    "\n",
    "testing['Age'] = testing['Age'].fillna(testing.groupby('PassengerGroup')['Age'].transform('median'))\n",
    "testing['Age'] = testing['Age'].fillna(testing.groupby('HomePlanet')['Age'].transform('median'))\n",
    "\n",
    "training['Adult'] = 1\n",
    "training.loc[training['Age']<18, 'Adult'] = 0\n",
    "\n",
    "testing['Adult'] = 1\n",
    "testing.loc[testing['Age']<18, 'Adult'] = 0\n",
    "\n",
    "# Cabin\n",
    "training['CabinDeck'] = training['Cabin'].str.split('/',expand=True)[0]\n",
    "testing['CabinDeck'] = testing['Cabin'].str.split('/',expand=True)[0]\n",
    "training['CabinDeck'] = training['CabinDeck'].fillna(value='NA')\n",
    "testing['CabinDeck'] = testing['CabinDeck'].fillna(value='NA')\n",
    "\n",
    "training['CabinSide'] = training['Cabin'].str.split('/',expand=True)[2]\n",
    "testing['CabinSide'] = testing['Cabin'].str.split('/',expand=True)[2]\n",
    "training['CabinSide'] = training['CabinSide'].fillna(value='NA')\n",
    "testing['CabinSide'] = testing['CabinSide'].fillna(value='NA')\n",
    "\n",
    "# Destination\n",
    "destination_dic = {'TRAPPIST-1e':'A','55 Cancri e':'B','PSO J318.5-22':'C'}\n",
    "training['Destination'] = training['Destination'].map(destination_dic)\n",
    "training['Destination'] = training['Destination'].fillna(value='NA')\n",
    "testing['Destination'] = testing['Destination'].map(destination_dic)\n",
    "testing['Destination'] = testing['Destination'].fillna(value='NA')\n",
    "\n"
   ]
  },
  {
   "cell_type": "code",
   "execution_count": 24,
   "id": "a2ae9aee",
   "metadata": {},
   "outputs": [],
   "source": [
    "# RoomService, FoodCourt, ShoppingMall, Spa, VRDeck and fill them with 0s\n",
    "training[['RoomService','FoodCourt','ShoppingMall','Spa','VRDeck']] = training[['RoomService','FoodCourt','ShoppingMall','Spa','VRDeck']].fillna(value=0)\n",
    "testing[['RoomService','FoodCourt','ShoppingMall','Spa','VRDeck']] = testing[['RoomService','FoodCourt','ShoppingMall','Spa','VRDeck']].fillna(value=0)"
   ]
  },
  {
   "cell_type": "code",
   "execution_count": 25,
   "id": "898dbb39",
   "metadata": {},
   "outputs": [],
   "source": [
    "# Total Spend\n",
    "training['TotalSpend'] = training['RoomService']+training['FoodCourt']+training['ShoppingMall']+training['Spa']+training['VRDeck']\n",
    "testing['TotalSpend'] = testing['RoomService']+testing['FoodCourt']+testing['ShoppingMall']+testing['Spa']+testing['VRDeck']"
   ]
  },
  {
   "cell_type": "code",
   "execution_count": 26,
   "id": "15e44d9e",
   "metadata": {},
   "outputs": [],
   "source": [
    "# Family Name\n",
    "training['FamilyName'] = training['Name'].str.split(' ',expand=True)[1]\n",
    "training['FamilyName'] = training['FamilyName'].fillna('NA')\n",
    "\n",
    "testing['FamilyName'] = testing['Name'].str.split(' ',expand=True)[1]\n",
    "testing['FamilyName'] = testing['FamilyName'].fillna('NA')\n",
    "\n",
    "combined['FamilyName'] = combined['Name'].str.split(' ',expand=True)[1]\n",
    "combined['FamilyName'] = combined['FamilyName'].fillna('NA')\n",
    "\n",
    "family_name_dictionary = combined['FamilyName'].value_counts().to_dict()\n",
    "family_name_dictionary['NA'] = 0\n",
    "\n",
    "training['FamilyMember'] = training['FamilyName']\n",
    "training['FamilyMember'] = training['FamilyMember'].map(family_name_dictionary)\n",
    "\n",
    "testing['FamilyMember'] = testing['FamilyName']\n",
    "testing['FamilyMember'] = testing['FamilyMember'].map(family_name_dictionary)"
   ]
  },
  {
   "cell_type": "code",
   "execution_count": 27,
   "id": "86bb499d",
   "metadata": {},
   "outputs": [],
   "source": [
    "drop = ['PassengerId','PassengerGroup','Cabin','Name','FamilyName']\n",
    "passenger_id = testing['PassengerId']\n",
    "training = training.drop(drop,axis=1)\n",
    "testing = testing.drop(drop,axis=1)"
   ]
  },
  {
   "cell_type": "code",
   "execution_count": 28,
   "id": "84ba95b2",
   "metadata": {},
   "outputs": [],
   "source": [
    "convert_features = ['CryoSleep','VIP','Transported']\n",
    "training[convert_features] = training[convert_features].astype(int)\n",
    "testing[convert_features[:-1]] = testing[convert_features[:-1]].astype(int)"
   ]
  },
  {
   "cell_type": "markdown",
   "id": "2589301f",
   "metadata": {},
   "source": [
    "# Feature Scaling of the Data"
   ]
  },
  {
   "cell_type": "code",
   "execution_count": 29,
   "id": "a2549364",
   "metadata": {},
   "outputs": [],
   "source": [
    "from sklearn.preprocessing import MinMaxScaler\n",
    "from sklearn.preprocessing import Normalizer\n",
    "from sklearn.preprocessing import RobustScaler\n",
    "from sklearn.preprocessing import StandardScaler\n",
    "from sklearn.model_selection import train_test_split"
   ]
  },
  {
   "cell_type": "code",
   "execution_count": 30,
   "id": "5690f193",
   "metadata": {},
   "outputs": [],
   "source": [
    "main_features = ['Age','RoomService','FoodCourt','ShoppingMall','Spa','VRDeck','TotalSpend','FamilyMember']\n",
    "\n",
    "scaler = StandardScaler()\n",
    "training_scaled = scaler.fit_transform(training[main_features])\n",
    "testing_scaled = scaler.transform(testing[main_features])\n",
    "\n",
    "training_scaled = pd.DataFrame(data=training_scaled,columns=main_features)\n",
    "testing_scaled = pd.DataFrame(data=testing_scaled,columns=main_features)\n",
    "\n",
    "encoded_features = ['HomePlanet','CryoSleep','Destination','VIP','CabinDeck','CabinSide','Adult']\n",
    "\n",
    "train_cat_encoded = pd.get_dummies(training[encoded_features],drop_first=True)\n",
    "test_cat_encoded = pd.get_dummies(testing[encoded_features],drop_first=True)"
   ]
  },
  {
   "cell_type": "code",
   "execution_count": 31,
   "id": "3b98e983",
   "metadata": {},
   "outputs": [],
   "source": [
    "X = pd.concat([training_scaled,train_cat_encoded],axis=1)\n",
    "X_test_samples = pd.concat([testing_scaled,test_cat_encoded],axis=1)\n",
    "y = training['Transported']"
   ]
  },
  {
   "cell_type": "markdown",
   "id": "c7c9d73a",
   "metadata": {},
   "source": [
    "# Logistic Regression Classifier"
   ]
  },
  {
   "cell_type": "code",
   "execution_count": 32,
   "id": "dfadabdd",
   "metadata": {},
   "outputs": [],
   "source": [
    "#Logisitic Regression\n",
    "from sklearn.linear_model import LogisticRegression\n",
    "from sklearn.metrics import accuracy_score,precision_score,f1_score,recall_score,confusion_matrix"
   ]
  },
  {
   "cell_type": "code",
   "execution_count": 33,
   "id": "763631aa",
   "metadata": {},
   "outputs": [],
   "source": [
    "X_train, X_test, y_train, y_test = train_test_split(X, y, test_size=0.2, random_state=42)"
   ]
  },
  {
   "cell_type": "code",
   "execution_count": 34,
   "id": "91c77d4a",
   "metadata": {},
   "outputs": [],
   "source": [
    "def model_prediction(model,name,X_train, X_test, y_train, y_test):\n",
    "    model.fit(X_train,y_train)\n",
    "    X_train_pred = model.predict(X_train)\n",
    "    X_test_pred = model.predict(X_test)\n",
    "    \n",
    "    accuracy_train_score = round(accuracy_score(y_train,X_train_pred)*100,3)\n",
    "    accuracy_test_score = round(accuracy_score(y_test,X_test_pred)*100,3)\n",
    "    precision_score_ = round(precision_score(y_test,X_test_pred)*100,3)\n",
    "    recall_score_ = round(recall_score(y_test,X_test_pred)*100,3)\n",
    "    f1_score_ = round(f1_score(y_test,X_test_pred)*100,3)\n",
    "    \n",
    "    print(f\"Accuracy_Score of {model} model on Training Data is:\",accuracy_train_score,'%')\n",
    "    print(f\"Accuracy_Score of {model} model on Testing Data is:\",accuracy_test_score,'%')\n",
    "    \n",
    "    print(f\"Precision Score of {model} model is:\",precision_score_,'%')\n",
    "    print(f\"Recall Score of {model} model is:\",recall_score_,'%')\n",
    "    print(f\"F1 Score of {model} model is:\",f1_score_,'%')\n",
    "\n",
    "    print(f\"Confusion Matrix of {model} model is:\")\n",
    "    cm = confusion_matrix(y_test,X_test_pred)\n",
    "    cm = cm/ cm.astype(np.float).sum(axis=1)\n",
    "    plt.figure(figsize=(7,3))\n",
    "    sns.heatmap(cm,annot=True, fmt=\".2f\")\n",
    "    plt.show()\n",
    "    \n",
    "    return accuracy_train_score,accuracy_test_score,precision_score_,recall_score_,f1_score_"
   ]
  },
  {
   "cell_type": "code",
   "execution_count": 41,
   "id": "d4012316",
   "metadata": {},
   "outputs": [
    {
     "name": "stdout",
     "output_type": "stream",
     "text": [
      "Accuracy_Score of LogisticRegression(C=100, penalty='l1', random_state=52, solver='liblinear') model on Training Data is: 79.724 %\n",
      "Accuracy_Score of LogisticRegression(C=100, penalty='l1', random_state=52, solver='liblinear') model on Testing Data is: 78.378 %\n",
      "Precision Score of LogisticRegression(C=100, penalty='l1', random_state=52, solver='liblinear') model is: 76.421 %\n",
      "Recall Score of LogisticRegression(C=100, penalty='l1', random_state=52, solver='liblinear') model is: 82.688 %\n",
      "F1 Score of LogisticRegression(C=100, penalty='l1', random_state=52, solver='liblinear') model is: 79.431 %\n",
      "Confusion Matrix of LogisticRegression(C=100, penalty='l1', random_state=52, solver='liblinear') model is:\n"
     ]
    },
    {
     "data": {
      "image/png": "[encoded data removed]",
      "text/plain": [
       "<Figure size 700x300 with 2 Axes>"
      ]
     },
     "metadata": {},
     "output_type": "display_data"
    }
   ],
   "source": [
    "logistic_name = 'Logistic Regression Classifier'\n",
    "log_model = LogisticRegression(C=100, penalty='l1', solver='liblinear', random_state=52)\n",
    "logistic_accuracy_train_score,logistic_accuracy_test_score,logistic_precision_score,logistic_recall_score,logistic_f1_score=model_prediction(log_model,logistic_name,X_train, X_test, y_train, y_test)"
   ]
  },
  {
   "cell_type": "markdown",
   "id": "cbfdc5e0",
   "metadata": {},
   "source": [
    "# Random Forest Classifier"
   ]
  },
  {
   "cell_type": "code",
   "execution_count": 42,
   "id": "4541eca4",
   "metadata": {},
   "outputs": [
    {
     "name": "stdout",
     "output_type": "stream",
     "text": [
      "Accuracy_Score of RandomForestClassifier(max_depth=10, random_state=42) model on Training Data is: 85.879 %\n",
      "Accuracy_Score of RandomForestClassifier(max_depth=10, random_state=42) model on Testing Data is: 79.241 %\n",
      "Precision Score of RandomForestClassifier(max_depth=10, random_state=42) model is: 77.766 %\n",
      "Recall Score of RandomForestClassifier(max_depth=10, random_state=42) model is: 82.46 %\n",
      "F1 Score of RandomForestClassifier(max_depth=10, random_state=42) model is: 80.044 %\n",
      "Confusion Matrix of RandomForestClassifier(max_depth=10, random_state=42) model is:\n"
     ]
    },
    {
     "data": {
      "image/png": "[encoded data removed]",
      "text/plain": [
       "<Figure size 700x300 with 2 Axes>"
      ]
     },
     "metadata": {},
     "output_type": "display_data"
    }
   ],
   "source": [
    "from sklearn.ensemble import RandomForestClassifier\n",
    "rfs_name = 'Random Forest Classifier'\n",
    "rfs_model = RandomForestClassifier(max_depth=10, random_state=42)\n",
    "rfs_accuracy_train_score,rfs_accuracy_test_score,rfs_precision_score,rfs_recall_score,rfs_f1_score=model_prediction(rfs_model,rfs_name,X_train, X_test, y_train, y_test)"
   ]
  },
  {
   "cell_type": "markdown",
   "id": "e65fb8ac",
   "metadata": {},
   "source": [
    "# Support Vector Machine Classifier"
   ]
  },
  {
   "cell_type": "code",
   "execution_count": 43,
   "id": "c5ef4eb3",
   "metadata": {},
   "outputs": [
    {
     "name": "stdout",
     "output_type": "stream",
     "text": [
      "Accuracy_Score of SVC(gamma='auto') model on Training Data is: 81.004 %\n",
      "Accuracy_Score of SVC(gamma='auto') model on Testing Data is: 78.896 %\n",
      "Precision Score of SVC(gamma='auto') model is: 77.037 %\n",
      "Recall Score of SVC(gamma='auto') model is: 82.916 %\n",
      "F1 Score of SVC(gamma='auto') model is: 79.868 %\n",
      "Confusion Matrix of SVC(gamma='auto') model is:\n"
     ]
    },
    {
     "data": {
      "image/png": "[encoded data removed]",
      "text/plain": [
       "<Figure size 700x300 with 2 Axes>"
      ]
     },
     "metadata": {},
     "output_type": "display_data"
    }
   ],
   "source": [
    "from sklearn.svm import SVC\n",
    "svm_name = 'Support Vector Machine Classifier'\n",
    "svm_model = SVC(gamma='auto')\n",
    "svm_accuracy_train_score,svm_accuracy_test_score,svm_precision_score,svm_recall_score,svm_f1_score=model_prediction(svm_model,svm_name,X_train, X_test, y_train, y_test)"
   ]
  },
  {
   "cell_type": "markdown",
   "id": "a500cc83",
   "metadata": {},
   "source": [
    "# K-NN Classifier"
   ]
  },
  {
   "cell_type": "code",
   "execution_count": 44,
   "id": "34bc5a7b",
   "metadata": {},
   "outputs": [
    {
     "name": "stdout",
     "output_type": "stream",
     "text": [
      "Accuracy_Score of KNeighborsClassifier(n_neighbors=7) model on Training Data is: 83.261 %\n",
      "Accuracy_Score of KNeighborsClassifier(n_neighbors=7) model on Testing Data is: 77.286 %\n",
      "Precision Score of KNeighborsClassifier(n_neighbors=7) model is: 77.727 %\n",
      "Recall Score of KNeighborsClassifier(n_neighbors=7) model is: 77.107 %\n",
      "F1 Score of KNeighborsClassifier(n_neighbors=7) model is: 77.416 %\n",
      "Confusion Matrix of KNeighborsClassifier(n_neighbors=7) model is:\n"
     ]
    },
    {
     "data": {
      "image/png": "[encoded data removed]",
      "text/plain": [
       "<Figure size 700x300 with 2 Axes>"
      ]
     },
     "metadata": {},
     "output_type": "display_data"
    }
   ],
   "source": [
    "from sklearn.neighbors import KNeighborsClassifier\n",
    "K = 7\n",
    "knn_name = 'KNN Classifier'\n",
    "knn_model = KNeighborsClassifier(n_neighbors=K)\n",
    "knn_accuracy_train_score,knn_accuracy_test_score,knn_precision_score,knn_recall_score,knn_f1_score=model_prediction(knn_model,knn_name,X_train, X_test, y_train, y_test)"
   ]
  },
  {
   "cell_type": "markdown",
   "id": "75b35393",
   "metadata": {},
   "source": [
    "# Naive-Bayes Classifier"
   ]
  },
  {
   "cell_type": "code",
   "execution_count": 45,
   "id": "02b25d29",
   "metadata": {},
   "outputs": [
    {
     "name": "stdout",
     "output_type": "stream",
     "text": [
      "Accuracy_Score of MultinomialNB() model on Training Data is: 75.856 %\n",
      "Accuracy_Score of MultinomialNB() model on Testing Data is: 75.848 %\n",
      "Precision Score of MultinomialNB() model is: 77.133 %\n",
      "Recall Score of MultinomialNB() model is: 74.146 %\n",
      "F1 Score of MultinomialNB() model is: 75.61 %\n",
      "Confusion Matrix of MultinomialNB() model is:\n"
     ]
    },
    {
     "data": {
      "image/png": "[encoded data removed]",
      "text/plain": [
       "<Figure size 700x300 with 2 Axes>"
      ]
     },
     "metadata": {},
     "output_type": "display_data"
    }
   ],
   "source": [
    "from sklearn.naive_bayes import MultinomialNB\n",
    "# X_scaled_naive = scaler.fit_transform(X[main_features])\n",
    "# test_df_scaled_naive = scaler.fit_transform(test_df[main_features])\n",
    "# X_train_naive, X_test_naive, y_train_naive, y_test_naive = train_test_split(X_scaled_naive,y,test_size=0.2,random_state=0)\n",
    "\n",
    "X_train_naive, X_test_naive, y_train_naive, y_test_naive = np.abs(X_train),np.abs(X_test),np.abs(y_train),np.abs(y_test)\n",
    "\n",
    "naive_model = MultinomialNB()\n",
    "\n",
    "naive_name = 'Naive-Bayes Classifier'\n",
    "#naive_accuracy_train_score,naive_accuracy_test_score,naive_precision_score,naive_recall_score,naive_f1_score=model_prediction(naive_model,naive_name,X_train, X_test, y_train, y_test)\n",
    "naive_accuracy_train_score,naive_accuracy_test_score,naive_precision_score,naive_recall_score,naive_f1_score=model_prediction(naive_model,naive_name,X_train_naive, X_test_naive, y_train_naive, y_test_naive)"
   ]
  },
  {
   "cell_type": "markdown",
   "id": "b8749f4f",
   "metadata": {},
   "source": [
    "# Decision Tree Classifier"
   ]
  },
  {
   "cell_type": "code",
   "execution_count": 40,
   "id": "c3905d53",
   "metadata": {},
   "outputs": [
    {
     "name": "stdout",
     "output_type": "stream",
     "text": [
      "Accuracy_Score of DecisionTreeClassifier(max_depth=5, min_samples_split=10, random_state=42) model on Training Data is: 79.781 %\n",
      "Accuracy_Score of DecisionTreeClassifier(max_depth=5, min_samples_split=10, random_state=42) model on Testing Data is: 77.286 %\n",
      "Precision Score of DecisionTreeClassifier(max_depth=5, min_samples_split=10, random_state=42) model is: 76.31 %\n",
      "Recall Score of DecisionTreeClassifier(max_depth=5, min_samples_split=10, random_state=42) model is: 81.159 %\n",
      "F1 Score of DecisionTreeClassifier(max_depth=5, min_samples_split=10, random_state=42) model is: 78.66 %\n",
      "Confusion Matrix of DecisionTreeClassifier(max_depth=5, min_samples_split=10, random_state=42) model is:\n"
     ]
    },
    {
     "data": {
      "image/png": "[encoded data removed]",
      "text/plain": [
       "<Figure size 700x300 with 2 Axes>"
      ]
     },
     "metadata": {},
     "output_type": "display_data"
    }
   ],
   "source": [
    "from sklearn.tree import DecisionTreeClassifier\n",
    "dt_name = 'Decision Tree Classifier'\n",
    "dt_model = DecisionTreeClassifier(max_depth=5, min_samples_split=10, random_state=42)\n",
    "dt_accuracy_train_score,dt_accuracy_test_score,dt_precision_score,dt_recall_score,dt_f1_score=model_prediction(dt_model,dt_name,X_train, X_test, y_train, y_test)"
   ]
  },
  {
   "cell_type": "code",
   "execution_count": 41,
   "id": "9dc00fe0",
   "metadata": {},
   "outputs": [],
   "source": [
    "training_score = [logistic_accuracy_train_score,rfs_accuracy_train_score,svm_accuracy_train_score,knn_accuracy_train_score,naive_accuracy_train_score,dt_accuracy_train_score]\n",
    "testing_score = [logistic_accuracy_test_score,rfs_accuracy_test_score,svm_accuracy_test_score,knn_accuracy_test_score,naive_accuracy_test_score,dt_accuracy_test_score]\n",
    "precision_score = [logistic_precision_score,rfs_precision_score,svm_precision_score,knn_precision_score,naive_precision_score,dt_precision_score]\n",
    "recall_score = [logistic_recall_score,rfs_recall_score,svm_recall_score,knn_recall_score,naive_recall_score,dt_recall_score]\n",
    "f1_score = [logistic_f1_score,rfs_f1_score,svm_f1_score,knn_f1_score,naive_f1_score,dt_f1_score]"
   ]
  },
  {
   "cell_type": "code",
   "execution_count": 42,
   "id": "95c03faf",
   "metadata": {},
   "outputs": [
    {
     "data": {
      "image/png": "[encoded data removed]",
      "text/plain": [
       "<Figure size 1500x600 with 1 Axes>"
      ]
     },
     "metadata": {},
     "output_type": "display_data"
    }
   ],
   "source": [
    "model_names = [logistic_name,rfs_name,svm_name,knn_name,naive_name,dt_name]\n",
    "ml_df = pd.DataFrame({\"Models\":model_names,\n",
    "                   \"Training Score in %\":training_score,\n",
    "                   \"Testing Score in %\":testing_score,\n",
    "                   'Precision Score in %':precision_score,\n",
    "                    'Recall Score in %':recall_score,\n",
    "                    'F1-Score in %':f1_score\n",
    "                     })\n",
    "ml_df.plot(x=\"Models\",y=[\"Training Score in %\",\"Testing Score in %\",'Precision Score in %','Recall Score in %','F1-Score in %'], figsize=(15,6),kind=\"bar\",\n",
    "        title=\"Performance of Different Models\")\n",
    "plt.savefig('figures/model_performance_chart.png')\n",
    "plt.show()"
   ]
  },
  {
   "cell_type": "markdown",
   "id": "ce4caf32",
   "metadata": {},
   "source": [
    "# Neural Networks"
   ]
  },
  {
   "cell_type": "code",
   "execution_count": 43,
   "id": "d5b3644c",
   "metadata": {},
   "outputs": [
    {
     "name": "stdout",
     "output_type": "stream",
     "text": [
      "Epoch 1/50\n",
      "218/218 [==============================] - 2s 5ms/step - loss: 0.5485 - accuracy: 0.7279 - val_loss: 0.4644 - val_accuracy: 0.7780\n",
      "Epoch 2/50\n",
      "218/218 [==============================] - 1s 4ms/step - loss: 0.4647 - accuracy: 0.7852 - val_loss: 0.4471 - val_accuracy: 0.7746\n",
      "Epoch 3/50\n",
      "218/218 [==============================] - 1s 3ms/step - loss: 0.4546 - accuracy: 0.7870 - val_loss: 0.4383 - val_accuracy: 0.7815\n",
      "Epoch 4/50\n",
      "218/218 [==============================] - 1s 4ms/step - loss: 0.4411 - accuracy: 0.7975 - val_loss: 0.4326 - val_accuracy: 0.7855\n",
      "Epoch 5/50\n",
      "218/218 [==============================] - 1s 3ms/step - loss: 0.4361 - accuracy: 0.7970 - val_loss: 0.4310 - val_accuracy: 0.7855\n",
      "Epoch 6/50\n",
      "218/218 [==============================] - 1s 4ms/step - loss: 0.4233 - accuracy: 0.7982 - val_loss: 0.4277 - val_accuracy: 0.7849\n",
      "Epoch 7/50\n",
      "218/218 [==============================] - 1s 4ms/step - loss: 0.4292 - accuracy: 0.7995 - val_loss: 0.4236 - val_accuracy: 0.7844\n",
      "Epoch 8/50\n",
      "218/218 [==============================] - 1s 3ms/step - loss: 0.4202 - accuracy: 0.8027 - val_loss: 0.4239 - val_accuracy: 0.7844\n",
      "Epoch 9/50\n",
      "218/218 [==============================] - 1s 4ms/step - loss: 0.4164 - accuracy: 0.8057 - val_loss: 0.4207 - val_accuracy: 0.7941\n",
      "Epoch 10/50\n",
      "218/218 [==============================] - 1s 4ms/step - loss: 0.4166 - accuracy: 0.8041 - val_loss: 0.4220 - val_accuracy: 0.7918\n",
      "Epoch 11/50\n",
      "218/218 [==============================] - 1s 3ms/step - loss: 0.4137 - accuracy: 0.8044 - val_loss: 0.4202 - val_accuracy: 0.7930\n",
      "Epoch 12/50\n",
      "218/218 [==============================] - 1s 3ms/step - loss: 0.4085 - accuracy: 0.8097 - val_loss: 0.4188 - val_accuracy: 0.7930\n",
      "Epoch 13/50\n",
      "218/218 [==============================] - 1s 3ms/step - loss: 0.4065 - accuracy: 0.8099 - val_loss: 0.4147 - val_accuracy: 0.8010\n",
      "Epoch 14/50\n",
      "218/218 [==============================] - 1s 3ms/step - loss: 0.4032 - accuracy: 0.8112 - val_loss: 0.4156 - val_accuracy: 0.7953\n",
      "Epoch 15/50\n",
      "218/218 [==============================] - 1s 3ms/step - loss: 0.4030 - accuracy: 0.8128 - val_loss: 0.4175 - val_accuracy: 0.7987\n",
      "Epoch 16/50\n",
      "218/218 [==============================] - 1s 4ms/step - loss: 0.3994 - accuracy: 0.8123 - val_loss: 0.4173 - val_accuracy: 0.7913\n",
      "Epoch 17/50\n",
      "218/218 [==============================] - 1s 4ms/step - loss: 0.3980 - accuracy: 0.8131 - val_loss: 0.4170 - val_accuracy: 0.8016\n",
      "Epoch 18/50\n",
      "218/218 [==============================] - 1s 4ms/step - loss: 0.4010 - accuracy: 0.8128 - val_loss: 0.4139 - val_accuracy: 0.7993\n",
      "Epoch 19/50\n",
      "218/218 [==============================] - 1s 3ms/step - loss: 0.3967 - accuracy: 0.8126 - val_loss: 0.4130 - val_accuracy: 0.7999\n",
      "Epoch 20/50\n",
      "218/218 [==============================] - 1s 4ms/step - loss: 0.3971 - accuracy: 0.8095 - val_loss: 0.4119 - val_accuracy: 0.7982\n",
      "Epoch 21/50\n",
      "218/218 [==============================] - 1s 3ms/step - loss: 0.3927 - accuracy: 0.8152 - val_loss: 0.4112 - val_accuracy: 0.8033\n",
      "Epoch 22/50\n",
      "218/218 [==============================] - 1s 3ms/step - loss: 0.3944 - accuracy: 0.8139 - val_loss: 0.4129 - val_accuracy: 0.7970\n",
      "Epoch 23/50\n",
      "218/218 [==============================] - 1s 4ms/step - loss: 0.3911 - accuracy: 0.8154 - val_loss: 0.4130 - val_accuracy: 0.7982\n",
      "Epoch 24/50\n",
      "218/218 [==============================] - 1s 3ms/step - loss: 0.3920 - accuracy: 0.8136 - val_loss: 0.4111 - val_accuracy: 0.8022\n",
      "Epoch 25/50\n",
      "218/218 [==============================] - 1s 3ms/step - loss: 0.3921 - accuracy: 0.8125 - val_loss: 0.4114 - val_accuracy: 0.8062\n",
      "Epoch 26/50\n",
      "218/218 [==============================] - 1s 3ms/step - loss: 0.3888 - accuracy: 0.8164 - val_loss: 0.4119 - val_accuracy: 0.7941\n",
      "Epoch 27/50\n",
      "218/218 [==============================] - 1s 4ms/step - loss: 0.3867 - accuracy: 0.8175 - val_loss: 0.4125 - val_accuracy: 0.8016\n",
      "Epoch 28/50\n",
      "218/218 [==============================] - 1s 3ms/step - loss: 0.3896 - accuracy: 0.8164 - val_loss: 0.4094 - val_accuracy: 0.7999\n",
      "Epoch 29/50\n",
      "218/218 [==============================] - 1s 4ms/step - loss: 0.3847 - accuracy: 0.8214 - val_loss: 0.4111 - val_accuracy: 0.7987\n",
      "Epoch 30/50\n",
      "218/218 [==============================] - 1s 4ms/step - loss: 0.3848 - accuracy: 0.8210 - val_loss: 0.4079 - val_accuracy: 0.8022\n",
      "Epoch 31/50\n",
      "218/218 [==============================] - 1s 3ms/step - loss: 0.3859 - accuracy: 0.8146 - val_loss: 0.4093 - val_accuracy: 0.8005\n",
      "Epoch 32/50\n",
      "218/218 [==============================] - 1s 4ms/step - loss: 0.3839 - accuracy: 0.8200 - val_loss: 0.4076 - val_accuracy: 0.8028\n",
      "Epoch 33/50\n",
      "218/218 [==============================] - 1s 3ms/step - loss: 0.3825 - accuracy: 0.8204 - val_loss: 0.4192 - val_accuracy: 0.7884\n",
      "Epoch 34/50\n",
      "218/218 [==============================] - 1s 3ms/step - loss: 0.3847 - accuracy: 0.8215 - val_loss: 0.4080 - val_accuracy: 0.7959\n",
      "Epoch 35/50\n",
      "218/218 [==============================] - 1s 4ms/step - loss: 0.3805 - accuracy: 0.8184 - val_loss: 0.4111 - val_accuracy: 0.8005\n",
      "Epoch 36/50\n",
      "218/218 [==============================] - 1s 4ms/step - loss: 0.3794 - accuracy: 0.8185 - val_loss: 0.4084 - val_accuracy: 0.8016\n",
      "Epoch 37/50\n",
      "218/218 [==============================] - 1s 4ms/step - loss: 0.3806 - accuracy: 0.8207 - val_loss: 0.4064 - val_accuracy: 0.8051\n",
      "Epoch 38/50\n",
      "218/218 [==============================] - 1s 3ms/step - loss: 0.3733 - accuracy: 0.8244 - val_loss: 0.4130 - val_accuracy: 0.8010\n",
      "Epoch 39/50\n",
      "218/218 [==============================] - 1s 3ms/step - loss: 0.3782 - accuracy: 0.8241 - val_loss: 0.4140 - val_accuracy: 0.7964\n",
      "Epoch 40/50\n",
      "218/218 [==============================] - 1s 4ms/step - loss: 0.3760 - accuracy: 0.8231 - val_loss: 0.4091 - val_accuracy: 0.8028\n",
      "Epoch 41/50\n",
      "218/218 [==============================] - 1s 4ms/step - loss: 0.3783 - accuracy: 0.8211 - val_loss: 0.4093 - val_accuracy: 0.8005\n",
      "Epoch 42/50\n",
      "218/218 [==============================] - 1s 3ms/step - loss: 0.3773 - accuracy: 0.8241 - val_loss: 0.4129 - val_accuracy: 0.7970\n",
      "Epoch 43/50\n",
      "218/218 [==============================] - 1s 3ms/step - loss: 0.3763 - accuracy: 0.8227 - val_loss: 0.4108 - val_accuracy: 0.7964\n",
      "Epoch 44/50\n",
      "218/218 [==============================] - 1s 4ms/step - loss: 0.3755 - accuracy: 0.8202 - val_loss: 0.4132 - val_accuracy: 0.7964\n",
      "Epoch 45/50\n",
      "218/218 [==============================] - 1s 4ms/step - loss: 0.3722 - accuracy: 0.8256 - val_loss: 0.4107 - val_accuracy: 0.8010\n",
      "Epoch 46/50\n",
      "218/218 [==============================] - 1s 3ms/step - loss: 0.3729 - accuracy: 0.8215 - val_loss: 0.4128 - val_accuracy: 0.7918\n",
      "Epoch 47/50\n",
      "218/218 [==============================] - 1s 3ms/step - loss: 0.3731 - accuracy: 0.8260 - val_loss: 0.4118 - val_accuracy: 0.7993\n",
      "Epoch 48/50\n",
      "218/218 [==============================] - 1s 4ms/step - loss: 0.3740 - accuracy: 0.8267 - val_loss: 0.4090 - val_accuracy: 0.8005\n",
      "Epoch 49/50\n",
      "218/218 [==============================] - 1s 4ms/step - loss: 0.3700 - accuracy: 0.8277 - val_loss: 0.4105 - val_accuracy: 0.7976\n",
      "Epoch 50/50\n",
      "218/218 [==============================] - 1s 3ms/step - loss: 0.3671 - accuracy: 0.8250 - val_loss: 0.4140 - val_accuracy: 0.7987\n",
      "55/55 [==============================] - 0s 2ms/step - loss: 0.4140 - accuracy: 0.7987\n",
      "Test accuracy: 0.7987349033355713\n"
     ]
    }
   ],
   "source": [
    "# # import necessary libraries\n",
    "# import numpy as np\n",
    "# from keras.models import Sequential\n",
    "# from keras.layers import Dense, Dropout\n",
    "# from keras import regularizers\n",
    "# from keras.optimizers import Adam\n",
    "\n",
    "# # create a neural network model\n",
    "# model = Sequential()\n",
    "\n",
    "# # add layers to the model\n",
    "# model.add(Dense(units=64, activation='relu', input_dim=X_train.shape[1]))\n",
    "# model.add(Dropout(0.2))\n",
    "# model.add(Dense(units=32, activation='relu'))\n",
    "# model.add(Dropout(0.2))\n",
    "# model.add(Dense(units=16, activation='relu', kernel_regularizer=regularizers.l2(0.001)))\n",
    "# model.add(Dense(units=1, activation='sigmoid'))\n",
    "\n",
    "# # compile the model\n",
    "# opt = Adam(lr=0.001)\n",
    "# model.compile(loss='binary_crossentropy', optimizer=opt, metrics=['accuracy'])\n",
    "\n",
    "# # train the model on the training data\n",
    "# history = model.fit(X_train, y_train, epochs=50, batch_size=32, validation_data=(X_test, y_test))\n",
    "\n",
    "# # evaluate the model on the test data\n",
    "# test_loss, test_acc = model.evaluate(X_test, y_test)\n",
    "\n",
    "# print('Test accuracy:', test_acc)\n"
   ]
  },
  {
   "cell_type": "markdown",
   "id": "4a063c29",
   "metadata": {},
   "source": [
    "# Optimized Decision Tree Classifier"
   ]
  },
  {
   "cell_type": "code",
   "execution_count": 58,
   "id": "7dc1acf8",
   "metadata": {},
   "outputs": [
    {
     "name": "stdout",
     "output_type": "stream",
     "text": [
      "Best hyperparameters: {'max_depth': 10, 'max_features': 'sqrt', 'min_samples_leaf': 2, 'min_samples_split': 10}\n",
      "Accuracy_Score of DecisionTreeClassifier(max_depth=10, max_features='sqrt', min_samples_leaf=2,\n",
      "                       min_samples_split=10, random_state=42) model on Training Data is: 81.32 %\n",
      "Accuracy_Score of DecisionTreeClassifier(max_depth=10, max_features='sqrt', min_samples_leaf=2,\n",
      "                       min_samples_split=10, random_state=42) model on Testing Data is: 76.998 %\n",
      "Precision Score of DecisionTreeClassifier(max_depth=10, max_features='sqrt', min_samples_leaf=2,\n",
      "                       min_samples_split=10, random_state=42) model is: 75.866 %\n",
      "Recall Score of DecisionTreeClassifier(max_depth=10, max_features='sqrt', min_samples_leaf=2,\n",
      "                       min_samples_split=10, random_state=42) model is: 79.841 %\n",
      "F1 Score of DecisionTreeClassifier(max_depth=10, max_features='sqrt', min_samples_leaf=2,\n",
      "                       min_samples_split=10, random_state=42) model is: 77.802 %\n",
      "Confusion Matrix of DecisionTreeClassifier(max_depth=10, max_features='sqrt', min_samples_leaf=2,\n",
      "                       min_samples_split=10, random_state=42) model is:\n"
     ]
    },
    {
     "data": {
      "image/png": "[encoded data removed]",
      "text/plain": [
       "<Figure size 700x300 with 2 Axes>"
      ]
     },
     "metadata": {},
     "output_type": "display_data"
    },
    {
     "name": "stdout",
     "output_type": "stream",
     "text": [
      "0.7699827487061529\n"
     ]
    }
   ],
   "source": [
    "from sklearn.model_selection import GridSearchCV\n",
    "from sklearn.tree import DecisionTreeClassifier\n",
    "\n",
    "# create a decision tree model\n",
    "dt_model = DecisionTreeClassifier(random_state=42)\n",
    "\n",
    "# define the hyperparameter grid\n",
    "param_grid = {\n",
    "    'max_depth': [3, 5, 10],\n",
    "    'min_samples_split': [2, 5, 10],\n",
    "    'min_samples_leaf': [1, 2, 4],\n",
    "    'max_features': ['sqrt', 'log2']\n",
    "}\n",
    "\n",
    "# create a grid search object\n",
    "grid_search = GridSearchCV(dt_model, param_grid, cv=5)\n",
    "\n",
    "# fit the grid search object to the data\n",
    "grid_search.fit(X_train, y_train)\n",
    "\n",
    "# get the best hyperparameters\n",
    "best_params = grid_search.best_params_\n",
    "print('Best hyperparameters:', best_params)\n",
    "\n",
    "# create an optimized decision tree model with the best hyperparameters\n",
    "optimized_dt_model = DecisionTreeClassifier(random_state=42, **best_params)\n",
    "\n",
    "# train the optimized model on the training data\n",
    "optimized_dt_model.fit(X_train, y_train)\n",
    "\n",
    "# make predictions on the test data using the optimized model\n",
    "optimized_dt_name = 'Optimized Decision Tree Classifier'\n",
    "optimized_dt_accuracy_train_score, optimized_dt_accuracy_test_score, optimized_dt_precision_score, optimized_dt_recall_score, optimized_dt_f1_score = model_prediction(optimized_dt_model, optimized_dt_name, X_train, X_test, y_train, y_test)\n",
    "optimized_dt_y_pred_test = optimized_dt_model.predict(X_test)\n",
    "optimized_dt_accuracy_test_score = accuracy_score(y_test, optimized_dt_y_pred_test)\n",
    "print(optimized_dt_accuracy_test_score)"
   ]
  },
  {
   "cell_type": "markdown",
   "id": "bd64a909",
   "metadata": {},
   "source": [
    "# Optimized Random Forest Classifier"
   ]
  },
  {
   "cell_type": "code",
   "execution_count": null,
   "id": "69799ae8",
   "metadata": {},
   "outputs": [],
   "source": [
    "from sklearn.ensemble import RandomForestClassifier\n",
    "from sklearn.model_selection import GridSearchCV\n",
    "paramgrid = {'max_depth': list(range(1, 20, 2)), \n",
    "             'n_estimators': list(range(1, 200, 20))}\n",
    "grid_search = GridSearchCV(RandomForestClassifier(random_state = 1), paramgrid)\n",
    "\n",
    "# fit the grid search model\n",
    "grid_search.fit(X_train, y_train)\n",
    "\n",
    "# Estimating the optimized value\n",
    "opt_n_estimators= grid_search.best_estimator_\n",
    "\n",
    "optimized_rfs_model = RandomForestClassifier(max_depth=11, n_estimators=opt_n_estimators, random_state=11)\n",
    "\n",
    "# Make predictions on the test data\n",
    "optimized_rfs_name = 'Optimized Random Forest Classifier'\n",
    "optimized_rfs_accuracy_train_score,optimized_rfs_accuracy_test_score,optimized_rfs_precision_score,optimized_rfs_recall_score,optimized_rfs_f1_score=model_prediction(optimized_rfs_model,optimized_rfs_name,X_train, X_test, y_train, y_test)\n",
    "optimized_rfs_y_pred_test = optimized_rfs_model.predict(X_test)\n",
    "optimized_rfs_accuracy_test_score = accuracy_score(y_test, optimized_rfs_y_pred_test)\n",
    "print(optimized_rfs_accuracy_test_score)"
   ]
  },
  {
   "cell_type": "markdown",
   "id": "8549ee39",
   "metadata": {},
   "source": [
    "# Submissions"
   ]
  },
  {
   "cell_type": "code",
   "execution_count": 51,
   "id": "2226c41b",
   "metadata": {},
   "outputs": [],
   "source": [
    "# Submission Process\n",
    "predictions = optimized_dt_model.predict(X_test_samples)\n",
    "submissions = pd.DataFrame({'PassengerId': passenger_id, 'Transported': predictions})\n",
    "submissions['Transported'] = submissions['Transported'].astype('bool')\n",
    "submissions.to_csv(\"submissions/spaceship_prediction.csv\",index=False)"
   ]
  },
  {
   "cell_type": "markdown",
   "id": "8faf87ea",
   "metadata": {},
   "source": [
    "# References:\n",
    "\n",
    "https://github.com/kumod007/Titanic-Spaceship-Kaggle-Competition-End-To-End-Project/blob/main/titanic-spaceship-competition-end-to-end-project%20(2).ipynb"
   ]
  },
  {
   "cell_type": "markdown",
   "id": "0afeb68b",
   "metadata": {},
   "source": [
    "https://www.kaggle.com/code/doggypiggy/spaceship-titanic-top-10-0-80617"
   ]
  },
  {
   "cell_type": "code",
   "execution_count": null,
   "id": "29002ce5",
   "metadata": {},
   "outputs": [],
   "source": []
  }
 ],
 "metadata": {
  "kernelspec": {
   "display_name": "Python 3 (ipykernel)",
   "language": "python",
   "name": "python3"
  },
  "language_info": {
   "codemirror_mode": {
    "name": "ipython",
    "version": 3
   },
   "file_extension": ".py",
   "mimetype": "text/x-python",
   "name": "python",
   "nbconvert_exporter": "python",
   "pygments_lexer": "ipython3",
   "version": "3.9.13"
  }
 },
 "nbformat": 4,
 "nbformat_minor": 5
}
